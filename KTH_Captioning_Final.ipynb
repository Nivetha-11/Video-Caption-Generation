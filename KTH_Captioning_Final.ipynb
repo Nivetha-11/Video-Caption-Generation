{
  "nbformat": 4,
  "nbformat_minor": 0,
  "metadata": {
    "colab": {
      "name": "KTH-Captioning-Final.ipynb",
      "provenance": [],
      "collapsed_sections": [
        "3k332hcN134u",
        "P1Z5v5mV2H0u",
        "a-OFcICmNSwI",
        "wPkWG3LneyGK",
        "qrnRUhqOcZv5",
        "lLJpfvJ4I66k",
        "nDSqmdA7Ema1",
        "2JuLEV0BEpx5",
        "MYSanSRxf2PQ",
        "Telpv2-sEzfB",
        "ifTzBGgwK8se",
        "KWwwNTIHFDkA",
        "ivHirDkUE9Nc"
      ],
      "toc_visible": true
    },
    "kernelspec": {
      "name": "python3",
      "display_name": "Python 3"
    },
    "language_info": {
      "name": "python"
    },
    "accelerator": "GPU"
  },
  "cells": [
    {
      "cell_type": "markdown",
      "metadata": {
        "id": "3k332hcN134u"
      },
      "source": [
        "# Load required libaries"
      ]
    },
    {
      "cell_type": "code",
      "metadata": {
        "colab": {
          "base_uri": "https://localhost:8080/"
        },
        "id": "3EA22Rog1ziy",
        "outputId": "1b670147-94ff-40a0-ea30-9bccd15e8194"
      },
      "source": [
        "# tensorflow version\n",
        "import tensorflow\n",
        "print('tensorflow: %s' % tensorflow.__version__)\n",
        "# keras version\n",
        "import keras\n",
        "print('keras: %s' % keras.__version__)"
      ],
      "execution_count": null,
      "outputs": [
        {
          "output_type": "stream",
          "text": [
            "tensorflow: 2.4.1\n",
            "keras: 2.4.3\n"
          ],
          "name": "stdout"
        }
      ]
    },
    {
      "cell_type": "markdown",
      "metadata": {
        "id": "P1Z5v5mV2H0u"
      },
      "source": [
        "# Load Dataset and Configure Path"
      ]
    },
    {
      "cell_type": "code",
      "metadata": {
        "id": "cwQme0J52Qk9"
      },
      "source": [
        "import pandas as pd\n",
        "import json\n",
        "import glob\n",
        "import numpy as np"
      ],
      "execution_count": null,
      "outputs": []
    },
    {
      "cell_type": "code",
      "metadata": {
        "id": "XrJkEzFG2UHk"
      },
      "source": [
        "base_url = \"/content/drive/MyDrive/Semester 4/32933 - Research Project/KTH Dataset and Code\"\n",
        "\n",
        "dataset_kth = f\"{base_url}/KTH Dataset/dataset.json\"\n",
        "video_path_dir = f\"{base_url}/KTH Images\""
      ],
      "execution_count": null,
      "outputs": []
    },
    {
      "cell_type": "code",
      "metadata": {
        "id": "BhKjccGf2WUF"
      },
      "source": [
        "with open(dataset_kth) as f:\n",
        "  data = json.load(f)"
      ],
      "execution_count": null,
      "outputs": []
    },
    {
      "cell_type": "code",
      "metadata": {
        "id": "y_Su0u_72gjX"
      },
      "source": [
        "df = pd.DataFrame(data[\"data\"])"
      ],
      "execution_count": null,
      "outputs": []
    },
    {
      "cell_type": "code",
      "metadata": {
        "id": "WKhFy5I8CkId"
      },
      "source": [
        "df[\"id\"] = df.index + 1"
      ],
      "execution_count": null,
      "outputs": []
    },
    {
      "cell_type": "code",
      "metadata": {
        "colab": {
          "base_uri": "https://localhost:8080/",
          "height": 391
        },
        "id": "Eh3tY04xClyL",
        "outputId": "df05b497-6cca-4a3b-9edd-53a9c1f8e745"
      },
      "source": [
        "df"
      ],
      "execution_count": null,
      "outputs": [
        {
          "output_type": "execute_result",
          "data": {
            "text/html": [
              "<div>\n",
              "<style scoped>\n",
              "    .dataframe tbody tr th:only-of-type {\n",
              "        vertical-align: middle;\n",
              "    }\n",
              "\n",
              "    .dataframe tbody tr th {\n",
              "        vertical-align: top;\n",
              "    }\n",
              "\n",
              "    .dataframe thead th {\n",
              "        text-align: right;\n",
              "    }\n",
              "</style>\n",
              "<table border=\"1\" class=\"dataframe\">\n",
              "  <thead>\n",
              "    <tr style=\"text-align: right;\">\n",
              "      <th></th>\n",
              "      <th>action</th>\n",
              "      <th>folder_name</th>\n",
              "      <th>caption</th>\n",
              "      <th>total_images</th>\n",
              "      <th>id</th>\n",
              "    </tr>\n",
              "  </thead>\n",
              "  <tbody>\n",
              "    <tr>\n",
              "      <th>0</th>\n",
              "      <td>boxing</td>\n",
              "      <td>/boxing/person01_boxing_d1_uncomp.avi</td>\n",
              "      <td>a man is practising boxing outdoor</td>\n",
              "      <td>359</td>\n",
              "      <td>1</td>\n",
              "    </tr>\n",
              "    <tr>\n",
              "      <th>1</th>\n",
              "      <td>boxing</td>\n",
              "      <td>/boxing/person01_boxing_d2_uncomp.avi</td>\n",
              "      <td>a man is practising boxing outdoor</td>\n",
              "      <td>389</td>\n",
              "      <td>2</td>\n",
              "    </tr>\n",
              "    <tr>\n",
              "      <th>2</th>\n",
              "      <td>boxing</td>\n",
              "      <td>/boxing/person01_boxing_d3_uncomp.avi</td>\n",
              "      <td>an old  man boxing outdoor</td>\n",
              "      <td>464</td>\n",
              "      <td>3</td>\n",
              "    </tr>\n",
              "    <tr>\n",
              "      <th>3</th>\n",
              "      <td>boxing</td>\n",
              "      <td>/boxing/person02_boxing_d1_uncomp.avi</td>\n",
              "      <td>a man is practising boxing outdoor</td>\n",
              "      <td>427</td>\n",
              "      <td>4</td>\n",
              "    </tr>\n",
              "    <tr>\n",
              "      <th>4</th>\n",
              "      <td>boxing</td>\n",
              "      <td>/boxing/person02_boxing_d2_uncomp.avi</td>\n",
              "      <td>a man is practising boxing outdoor</td>\n",
              "      <td>459</td>\n",
              "      <td>5</td>\n",
              "    </tr>\n",
              "    <tr>\n",
              "      <th>...</th>\n",
              "      <td>...</td>\n",
              "      <td>...</td>\n",
              "      <td>...</td>\n",
              "      <td>...</td>\n",
              "      <td>...</td>\n",
              "    </tr>\n",
              "    <tr>\n",
              "      <th>593</th>\n",
              "      <td>walking</td>\n",
              "      <td>/walking/person24_walking_d4_uncomp.avi</td>\n",
              "      <td>a person is walking indoor</td>\n",
              "      <td>378</td>\n",
              "      <td>594</td>\n",
              "    </tr>\n",
              "    <tr>\n",
              "      <th>594</th>\n",
              "      <td>walking</td>\n",
              "      <td>/walking/person25_walking_d1_uncomp.avi</td>\n",
              "      <td>a man is walking outdoor</td>\n",
              "      <td>566</td>\n",
              "      <td>595</td>\n",
              "    </tr>\n",
              "    <tr>\n",
              "      <th>595</th>\n",
              "      <td>walking</td>\n",
              "      <td>/walking/person25_walking_d2_uncomp.avi</td>\n",
              "      <td>a man is walking outdoor</td>\n",
              "      <td>779</td>\n",
              "      <td>596</td>\n",
              "    </tr>\n",
              "    <tr>\n",
              "      <th>596</th>\n",
              "      <td>walking</td>\n",
              "      <td>/walking/person25_walking_d3_uncomp.avi</td>\n",
              "      <td>a man is walking outdoor</td>\n",
              "      <td>500</td>\n",
              "      <td>597</td>\n",
              "    </tr>\n",
              "    <tr>\n",
              "      <th>597</th>\n",
              "      <td>walking</td>\n",
              "      <td>/walking/person25_walking_d4_uncomp.avi</td>\n",
              "      <td>a man is walking indoor</td>\n",
              "      <td>570</td>\n",
              "      <td>598</td>\n",
              "    </tr>\n",
              "  </tbody>\n",
              "</table>\n",
              "<p>598 rows × 5 columns</p>\n",
              "</div>"
            ],
            "text/plain": [
              "      action                              folder_name  ... total_images   id\n",
              "0     boxing    /boxing/person01_boxing_d1_uncomp.avi  ...          359    1\n",
              "1     boxing    /boxing/person01_boxing_d2_uncomp.avi  ...          389    2\n",
              "2     boxing    /boxing/person01_boxing_d3_uncomp.avi  ...          464    3\n",
              "3     boxing    /boxing/person02_boxing_d1_uncomp.avi  ...          427    4\n",
              "4     boxing    /boxing/person02_boxing_d2_uncomp.avi  ...          459    5\n",
              "..       ...                                      ...  ...          ...  ...\n",
              "593  walking  /walking/person24_walking_d4_uncomp.avi  ...          378  594\n",
              "594  walking  /walking/person25_walking_d1_uncomp.avi  ...          566  595\n",
              "595  walking  /walking/person25_walking_d2_uncomp.avi  ...          779  596\n",
              "596  walking  /walking/person25_walking_d3_uncomp.avi  ...          500  597\n",
              "597  walking  /walking/person25_walking_d4_uncomp.avi  ...          570  598\n",
              "\n",
              "[598 rows x 5 columns]"
            ]
          },
          "metadata": {
            "tags": []
          },
          "execution_count": 10
        }
      ]
    },
    {
      "cell_type": "code",
      "metadata": {
        "colab": {
          "base_uri": "https://localhost:8080/",
          "height": 35
        },
        "id": "Y66bx0uT2_uA",
        "outputId": "5c23a3cb-06c3-4cb8-d90c-b01e073bfab5"
      },
      "source": [
        "i = 0\n",
        "video = df.iloc[[i]]['folder_name'].values[0]\n",
        "video"
      ],
      "execution_count": null,
      "outputs": [
        {
          "output_type": "execute_result",
          "data": {
            "application/vnd.google.colaboratory.intrinsic+json": {
              "type": "string"
            },
            "text/plain": [
              "'/boxing/person01_boxing_d1_uncomp.avi'"
            ]
          },
          "metadata": {
            "tags": []
          },
          "execution_count": 11
        }
      ]
    },
    {
      "cell_type": "code",
      "metadata": {
        "colab": {
          "base_uri": "https://localhost:8080/",
          "height": 35
        },
        "id": "16GFNk9_3bQk",
        "outputId": "41e0fed8-439c-4339-bf1b-354de3f59eef"
      },
      "source": [
        "x = f\"{video_path_dir}{video}\"\n",
        "x"
      ],
      "execution_count": null,
      "outputs": [
        {
          "output_type": "execute_result",
          "data": {
            "application/vnd.google.colaboratory.intrinsic+json": {
              "type": "string"
            },
            "text/plain": [
              "'/content/drive/MyDrive/Semester 4/32933 - Research Project/KTH Dataset and Code/KTH Images/boxing/person01_boxing_d1_uncomp.avi'"
            ]
          },
          "metadata": {
            "tags": []
          },
          "execution_count": 12
        }
      ]
    },
    {
      "cell_type": "code",
      "metadata": {
        "id": "6RyBwHbW5WCr"
      },
      "source": [
        "list_images = (glob.glob(f\"{x}/*.jpg\"))"
      ],
      "execution_count": null,
      "outputs": []
    },
    {
      "cell_type": "code",
      "metadata": {
        "colab": {
          "base_uri": "https://localhost:8080/",
          "height": 137
        },
        "id": "1JxFkZiN3cXv",
        "outputId": "be85cd05-6d28-44d2-95ff-34947c640546"
      },
      "source": [
        "from keras.preprocessing.image import load_img\n",
        "\n",
        "image = load_img(list_images[0])\n",
        "image"
      ],
      "execution_count": null,
      "outputs": [
        {
          "output_type": "execute_result",
          "data": {
            "image/png": "[encoded data removed]",
            "text/plain": [
              "<PIL.JpegImagePlugin.JpegImageFile image mode=RGB size=160x120 at 0x7F74F61739D0>"
            ]
          },
          "metadata": {
            "tags": []
          },
          "execution_count": 14
        }
      ]
    },
    {
      "cell_type": "code",
      "metadata": {
        "id": "OJI6sqwDMORU"
      },
      "source": [
        "def images_from_path(path):\n",
        "  images = f\"{video_path_dir}{path}\"\n",
        "  list_images = (glob.glob(f\"{images}/*.jpg\"))\n",
        "\n",
        "  return list_images"
      ],
      "execution_count": null,
      "outputs": []
    },
    {
      "cell_type": "code",
      "metadata": {
        "colab": {
          "base_uri": "https://localhost:8080/"
        },
        "id": "_6VuJuD_VfIF",
        "outputId": "f219ef95-3f03-41d8-8a49-3b756a0144be"
      },
      "source": [
        "from random import randrange\n",
        "print(randrange(100))"
      ],
      "execution_count": null,
      "outputs": [
        {
          "output_type": "stream",
          "text": [
            "69\n"
          ],
          "name": "stdout"
        }
      ]
    },
    {
      "cell_type": "markdown",
      "metadata": {
        "id": "a-OFcICmNSwI"
      },
      "source": [
        "# Prepare Image Data (Extract Features using CNN)"
      ]
    },
    {
      "cell_type": "code",
      "metadata": {
        "id": "TPcXvlyHNi8w"
      },
      "source": [
        "#Import Necessary Libraries\n",
        "from os import listdir\n",
        "from pickle import dump\n",
        "from keras.applications.vgg16 import VGG16\n",
        "from keras.preprocessing.image import load_img\n",
        "from keras.preprocessing.image import img_to_array\n",
        "from keras.applications.vgg16 import preprocess_input\n",
        "from keras.models import Model"
      ],
      "execution_count": null,
      "outputs": []
    },
    {
      "cell_type": "code",
      "metadata": {
        "colab": {
          "base_uri": "https://localhost:8080/"
        },
        "id": "_-etGUzWPuoJ",
        "outputId": "4995f46e-6c03-462d-b387-e4e8d3eaee9e"
      },
      "source": [
        "model = VGG16()\n",
        "model.layers.pop()\n",
        "model = Model(inputs=model.inputs, outputs=model.layers[-1].output)\n",
        "\n",
        "filename = list_images[200]\n",
        "image = load_img(filename, target_size=(224, 224))\n",
        "# convert the image pixels to a numpy array\n",
        "image = img_to_array(image)\n",
        "# reshape data for the model\n",
        "image = image.reshape((1, image.shape[0], image.shape[1], image.shape[2]))\n",
        "# prepare the image for the VGG model\n",
        "image = preprocess_input(image)\n",
        "# get features\n",
        "feature = model.predict(image, verbose=0)\n",
        "# store feature\n",
        "print(feature.shape)"
      ],
      "execution_count": null,
      "outputs": [
        {
          "output_type": "stream",
          "text": [
            "Downloading data from https://storage.googleapis.com/tensorflow/keras-applications/vgg16/vgg16_weights_tf_dim_ordering_tf_kernels.h5\n",
            "553467904/553467096 [==============================] - 3s 0us/step\n",
            "(1, 1000)\n"
          ],
          "name": "stdout"
        }
      ]
    },
    {
      "cell_type": "code",
      "metadata": {
        "id": "BWZLns8CYLDU"
      },
      "source": [
        "def extract_features(df):\n",
        "  model = VGG16()\n",
        "  model.layers.pop()\n",
        "  model = Model(inputs=model.inputs, outputs=model.layers[-1].output)\n",
        "  # print(model.summary())\n",
        "\n",
        "  features = dict()\n",
        "  for i in range(df.shape[0]):\n",
        "    video_path = df.iloc[[i]]['folder_name'].values[0]\n",
        "    list_images = images_from_path(video_path)\n",
        "    ran = randrange(len(list_images))\n",
        "    image_path = list_images[ran]\n",
        "\n",
        "    image_id = df.iloc[[i]]['id'].values[0]\n",
        "\n",
        "    filename = image_path\n",
        "    image = load_img(filename, target_size=(224, 224))\n",
        "    image = img_to_array(image)\n",
        "    image = image.reshape((1, image.shape[0], image.shape[1], image.shape[2]))\n",
        "    image = preprocess_input(image)\n",
        "    feature = model.predict(image, verbose=0)\n",
        "    features[image_id] = feature\n",
        "    print(f\"{image_id}. {filename}\")\n",
        "  return features"
      ],
      "execution_count": null,
      "outputs": []
    },
    {
      "cell_type": "code",
      "metadata": {
        "id": "my-7ueSxWYQS"
      },
      "source": [
        "features = extract_features(df)"
      ],
      "execution_count": null,
      "outputs": []
    },
    {
      "cell_type": "code",
      "metadata": {
        "id": "9Ev7PYQKgr-2"
      },
      "source": [
        "dump(features, open(video_path_dir + 'features.pkl', 'wb'))"
      ],
      "execution_count": null,
      "outputs": []
    },
    {
      "cell_type": "markdown",
      "metadata": {
        "id": "wPkWG3LneyGK"
      },
      "source": [
        "# Load and Clean Text Data (Captions)"
      ]
    },
    {
      "cell_type": "code",
      "metadata": {
        "id": "go-d0dBiRotB"
      },
      "source": [
        "import string"
      ],
      "execution_count": null,
      "outputs": []
    },
    {
      "cell_type": "code",
      "metadata": {
        "colab": {
          "base_uri": "https://localhost:8080/"
        },
        "id": "8SbCndSif21F",
        "outputId": "7c77b858-c5b2-4d21-cc74-b010a0bf5928"
      },
      "source": [
        "# extract descriptions for images\n",
        "def load_descriptions(df):\n",
        "  mapping = dict()\n",
        "  for i in range(df.shape[0]):\n",
        "    id = df.iloc[[i]]['id'].values[0]\n",
        "    caption = df.iloc[[i]]['caption'].values[0]\n",
        "\n",
        "    image_id, image_desc = id, caption\n",
        "    if image_id not in mapping:\n",
        "      mapping[image_id] = list()\n",
        "    mapping[image_id].append(image_desc)\n",
        "  return mapping\n",
        "\n",
        "descriptions = load_descriptions(df)\n",
        "print('Loaded: %d ' % len(descriptions))"
      ],
      "execution_count": null,
      "outputs": [
        {
          "output_type": "stream",
          "text": [
            "Loaded: 598 \n"
          ],
          "name": "stdout"
        }
      ]
    },
    {
      "cell_type": "code",
      "metadata": {
        "colab": {
          "base_uri": "https://localhost:8080/"
        },
        "id": "1AxFq2BPkKCk",
        "outputId": "1be4f0f3-5ddb-4ad0-ae10-4f1484052224"
      },
      "source": [
        "descriptions"
      ],
      "execution_count": null,
      "outputs": [
        {
          "output_type": "execute_result",
          "data": {
            "text/plain": [
              "{1: ['a man is practising boxing outdoor'],\n",
              " 2: ['a man is practising boxing outdoor'],\n",
              " 3: ['an old  man boxing outdoor'],\n",
              " 4: ['a man is practising boxing outdoor'],\n",
              " 5: ['a man is practising boxing outdoor'],\n",
              " 6: ['a man is practising boxing outdoor'],\n",
              " 7: ['a man is boxing indoor'],\n",
              " 8: ['a man is practising boxing outdoor'],\n",
              " 9: ['a man is practising boxing outdoor'],\n",
              " 10: ['a man is practising boxing outdoor'],\n",
              " 11: ['a man is boxing in indoor'],\n",
              " 12: ['a man is practising boxing outdoor'],\n",
              " 13: ['a man is practising boxing outdoor'],\n",
              " 14: ['a man is practising boxing outdoor'],\n",
              " 15: ['a man is practising boxing outdoor'],\n",
              " 16: ['a man is practising boxing outdoor'],\n",
              " 17: ['a man is practising boxing outdoor'],\n",
              " 18: ['a man is practising boxing outdoor'],\n",
              " 19: ['a man is practising boxing indoor'],\n",
              " 20: ['a man is practising boxing outdoor'],\n",
              " 21: ['a man is practising boxing outdoor'],\n",
              " 22: ['a man is practising boxing outdoor'],\n",
              " 23: ['a man is practising boxing indoor'],\n",
              " 24: ['a woman is practising boxing outdoor'],\n",
              " 25: ['a woman is practising boxing outdoor'],\n",
              " 26: ['a woman is practising boxing outdoor'],\n",
              " 27: ['a woman is practising boxing indoor'],\n",
              " 28: ['a woman is practising boxing outdoor'],\n",
              " 29: ['a woman is practising boxing outdoor'],\n",
              " 30: ['a child is practising boxing outdoor'],\n",
              " 31: ['a woman is practising boxing indoor'],\n",
              " 32: ['a woman is practising boxing outdoor'],\n",
              " 33: ['a woman is practising boxing outdoor'],\n",
              " 34: ['a woman is practising boxing outdoor'],\n",
              " 35: ['a woman is practising boxing indoor'],\n",
              " 36: ['a man is practising boxing outdoor'],\n",
              " 37: ['a man is practising boxing outdoor'],\n",
              " 38: ['a woman is practising boxing indoor'],\n",
              " 39: ['a boy is practising boxing outdoor'],\n",
              " 40: ['a man is practising boxing outdoor'],\n",
              " 41: ['a man is practising boxing outdoor'],\n",
              " 42: ['a man is practising boxing outdoor'],\n",
              " 43: ['a man is practising boxing indoor'],\n",
              " 44: ['a man is practising boxing outdoor'],\n",
              " 45: ['a man is practising boxing outdoor'],\n",
              " 46: ['a man is practising boxing outdoor'],\n",
              " 47: ['a man is practising boxing indoor'],\n",
              " 48: ['an old woman is practising boxing outdoor'],\n",
              " 49: ['an old woman is practising boxing outdoor'],\n",
              " 50: ['an old woman is practising boxing outdoor'],\n",
              " 51: ['an old  woman is practising boxing indoor'],\n",
              " 52: ['a boy is practising boxing outdoor'],\n",
              " 53: ['a boy is practising boxing outdoor'],\n",
              " 54: ['a boy is practising boxing outdoor'],\n",
              " 55: ['a boy is practising boxing outdoor'],\n",
              " 56: ['a woman is practising boxing outdoor'],\n",
              " 57: ['a woman is practising boxing outdoor'],\n",
              " 58: ['a woman is practising boxing outdoor'],\n",
              " 59: ['a woman is practising boxing indoor'],\n",
              " 60: ['an old man is practising boxing outdoor'],\n",
              " 61: ['an old man is practising boxing outdoor'],\n",
              " 62: ['an old man is practising boxing outdoor'],\n",
              " 63: ['a man is practising boxing indoor'],\n",
              " 64: ['a man is practising boxing outdoor'],\n",
              " 65: ['a man is practising boxing outdoor'],\n",
              " 66: ['a man is practising boxing outdoor'],\n",
              " 67: ['a man is practising boxing indoor'],\n",
              " 68: ['a man is practising boxing outdoor'],\n",
              " 69: ['a man is practising boxing outdoor'],\n",
              " 70: ['a man is practising boxing outdoor'],\n",
              " 71: ['a man is practising boxing indoor'],\n",
              " 72: ['a man is practising boxing outdoor'],\n",
              " 73: ['a man is practising boxing outdoor'],\n",
              " 74: ['a man is practising boxing outdoor'],\n",
              " 75: ['a man is practising boxing indoor'],\n",
              " 76: ['a man is practising boxing outdoor'],\n",
              " 77: ['a man is practising boxing outdoor'],\n",
              " 78: ['a man is practising boxing outdoor'],\n",
              " 79: ['a man is practising boxing indoor'],\n",
              " 80: ['a man is practising boxing outdoor'],\n",
              " 81: ['a man is practising boxing outdoor'],\n",
              " 82: ['a man is practising boxing outdoor'],\n",
              " 83: ['a man is practising boxing indoor'],\n",
              " 84: ['a man is practising boxing outdoor'],\n",
              " 85: ['a man is practising boxing outdoor'],\n",
              " 86: ['a man is practising boxing outdoor'],\n",
              " 87: ['a man is practising boxing indoor'],\n",
              " 88: ['a man is practising boxing outdoor'],\n",
              " 89: ['a man is practising boxing outdoor'],\n",
              " 90: ['a man is practising boxing outdoor'],\n",
              " 91: ['a man is practising boxing indoor'],\n",
              " 92: ['a man is practising boxing outdoor'],\n",
              " 93: ['a man is practising boxing outdoor'],\n",
              " 94: ['a man is practising boxing outdoor'],\n",
              " 95: ['a man is practising boxing indoor'],\n",
              " 96: ['a man is practising boxing outdoor'],\n",
              " 97: ['a man is practising boxing outdoor'],\n",
              " 98: ['a man is practising boxing outdoor'],\n",
              " 99: ['a man is practising boxing indoor'],\n",
              " 100: ['a man is waving the hands outdoor'],\n",
              " 101: ['a man is waving the hands outdoor'],\n",
              " 102: ['a person is waving the hands outdoor'],\n",
              " 103: ['a man is waving the hands indoor'],\n",
              " 104: ['a man is waving the hands outdoor'],\n",
              " 105: ['a man is waving the hands outdoor'],\n",
              " 106: ['a man is waving the hands outdoor'],\n",
              " 107: ['a man is waving the hands indoor'],\n",
              " 108: ['a man is waving the hands outdoor'],\n",
              " 109: ['a man is waving the hands outdoor'],\n",
              " 110: ['a man is waving the hands outdoor'],\n",
              " 111: ['a man is waving the hands indoor'],\n",
              " 112: ['a man is waving the hands outdoor'],\n",
              " 113: ['a man is waving the hands outdoor'],\n",
              " 114: ['a man is waving the hands outdoor'],\n",
              " 115: ['a man is waving the hands indoor'],\n",
              " 116: ['a man is waving the hands outdoor'],\n",
              " 117: ['a man is waving the hands outdoor'],\n",
              " 118: ['a man is waving the hands outdoor'],\n",
              " 119: ['a man is waving the hands indoor'],\n",
              " 120: ['a man is waving the hands outdoor'],\n",
              " 121: ['a man is waving the hands outdoor'],\n",
              " 122: ['a man is waving the hands outdoor'],\n",
              " 123: ['a man is waving the hands indoor'],\n",
              " 124: ['a man is waving the hands outdoor'],\n",
              " 125: ['a man is waving the hands outdoor'],\n",
              " 126: ['a woman is waving the hands outdoor'],\n",
              " 127: ['a man is waving the hands indoor'],\n",
              " 128: ['a woman is waving the hands outdoor'],\n",
              " 129: ['a woman is waving the hands outdoor'],\n",
              " 130: ['a woman is waving the hands outdoor'],\n",
              " 131: ['a woman is waving the hands indoor'],\n",
              " 132: ['a woman is waving the hands outdoor'],\n",
              " 133: ['a woman is waving the hands outdoor'],\n",
              " 134: ['a woman is waving the hands outdoor'],\n",
              " 135: ['a woman is waving the hands indoor'],\n",
              " 136: ['a man is waving the hands outdoor'],\n",
              " 137: ['a man is waving the hands outdoor'],\n",
              " 138: ['a man is waving the hands outdoor'],\n",
              " 139: ['a man is waving the hands indoor'],\n",
              " 140: ['a man is waving the hands outdoor'],\n",
              " 141: ['a man is waving the hands outdoor'],\n",
              " 142: ['a man is waving the hands outdoor'],\n",
              " 143: ['a man is waving the hands indoor'],\n",
              " 144: ['a man is waving the hands outdoor'],\n",
              " 145: ['a man is waving the hands outdoor'],\n",
              " 146: ['a man is waving the hands outdoor'],\n",
              " 147: ['a man is waving the hands indoor'],\n",
              " 148: ['a woman is waving the hands outdoor'],\n",
              " 149: ['a woman is waving the hands outdoor'],\n",
              " 150: ['a woman is waving the hands outdoor'],\n",
              " 151: ['a woman is waving the hands indoor'],\n",
              " 152: ['a man is waving the hands outdoor'],\n",
              " 153: ['a man is waving the hands outdoor'],\n",
              " 154: ['a man is waving the hands outdoor'],\n",
              " 155: ['a man is waving the hands indoor'],\n",
              " 156: ['a woman is waving the hands outdoor'],\n",
              " 157: ['a woman is waving the hands outdoor'],\n",
              " 158: ['a woman is waving the hands outdoor'],\n",
              " 159: ['a woman is waving the hands indoor'],\n",
              " 160: ['a man is waving the hands outdoor'],\n",
              " 161: ['a man is waving the hands outdoor'],\n",
              " 162: ['a man is waving the hands outdoor'],\n",
              " 163: ['a man is waving the hands indoor'],\n",
              " 164: ['a man is waving the hands outdoor'],\n",
              " 165: ['a man is waving the hands outdoor'],\n",
              " 166: ['a man is waving the hands outdoor'],\n",
              " 167: ['a man is waving the hands indoor'],\n",
              " 168: ['a man is waving the hands outdoor'],\n",
              " 169: ['a man is waving the hands outdoor'],\n",
              " 170: ['a man is waving the hands outdoor'],\n",
              " 171: ['a man is waving the hands indoor'],\n",
              " 172: ['a man is waving the hands outdoor'],\n",
              " 173: ['a man is waving the hands outdoor'],\n",
              " 174: ['a person is waving the hands outdoor'],\n",
              " 175: ['a man is waving the hands indoor'],\n",
              " 176: ['a man is waving the hands outdoor'],\n",
              " 177: ['a man is waving the hands outdoor'],\n",
              " 178: ['a man is waving the hands outdoor'],\n",
              " 179: ['a man is waving the hands indoor'],\n",
              " 180: ['a man is waving the hands outdoor'],\n",
              " 181: ['a man is waving the hands outdoor'],\n",
              " 182: ['a person is waving the hands outdoor'],\n",
              " 183: ['a man is waving the hands indoor'],\n",
              " 184: ['a man is waving the hands outdoor'],\n",
              " 185: ['a man is waving the hands outdoor'],\n",
              " 186: ['a man is waving the hands outdoor'],\n",
              " 187: ['a man is waving the hands indoor'],\n",
              " 188: ['a man is waving the hands outdoor'],\n",
              " 189: ['a man is waving the hands outdoor'],\n",
              " 190: ['a man is waving the hands outdoor'],\n",
              " 191: ['a man is waving the hands indoor'],\n",
              " 192: ['a man is waving the hands outdoor'],\n",
              " 193: ['a man is waving the hands outdoor'],\n",
              " 194: ['a man is waving the hands outdoor'],\n",
              " 195: ['a man is waving the hands indoor'],\n",
              " 196: ['a man is waving the hands outdoor'],\n",
              " 197: ['a man is waving the hands outdoor'],\n",
              " 198: ['a man is waving the hands outdoor'],\n",
              " 199: ['a man is waving the hands indoor'],\n",
              " 200: ['A man is clapping hands outdoor'],\n",
              " 201: ['A man is clapping hands outdoor'],\n",
              " 202: ['A person is clapping hands outdoor'],\n",
              " 203: ['A man is clapping hands indoor'],\n",
              " 204: ['A man is clapping hands outdoor'],\n",
              " 205: ['A man is clapping hands outdoor'],\n",
              " 206: ['A man is clapping hands outdoor'],\n",
              " 207: ['A man is clapping hands indoor'],\n",
              " 208: ['a man is clapping hands outdoor'],\n",
              " 209: ['a man is clapping hands outdoor'],\n",
              " 210: ['a man is clapping hands outdoor'],\n",
              " 211: ['a man is clapping hands indoor'],\n",
              " 212: ['a man is clapping hands outdoor'],\n",
              " 213: ['a man is clapping hands outdoor'],\n",
              " 214: ['a man is clapping hands outdoor'],\n",
              " 215: ['a man is clapping hands indoor'],\n",
              " 216: ['a man is clapping hands outdoor'],\n",
              " 217: ['a man is clapping hands outdoor'],\n",
              " 218: ['A man is clapping hands outdoor'],\n",
              " 219: ['a man is clapping hands indoor'],\n",
              " 220: ['a man is clapping hands outdoor'],\n",
              " 221: ['a man is clapping hands outdoor'],\n",
              " 222: ['a man is clapping hands outdoor'],\n",
              " 223: ['a man is clapping hands indoor'],\n",
              " 224: ['a person is clapping hands outdoor'],\n",
              " 225: ['a person is clapping hands outdoor'],\n",
              " 226: ['a woman is clapping hands outdoor'],\n",
              " 227: ['a person is clapping hands indoor'],\n",
              " 228: ['a woman is clapping hands outdoor'],\n",
              " 229: ['a woman is clapping hands outdoor'],\n",
              " 230: ['a woman is clapping hands outdoor'],\n",
              " 231: ['a woman is clapping hands indoor'],\n",
              " 232: ['a woman is clapping hands outdoor'],\n",
              " 233: ['a woman is clapping hands outdoor'],\n",
              " 234: ['a woman is clapping hands outdoor'],\n",
              " 235: ['a woman is clapping hands indoor'],\n",
              " 236: ['a man is clapping hands outdoor'],\n",
              " 237: ['a man is clapping hands outdoor'],\n",
              " 238: ['a man is clapping hands outdoor'],\n",
              " 239: ['a man is clapping hands indoor'],\n",
              " 240: ['a man is clapping hands outdoor'],\n",
              " 241: ['a man is clapping hands outdoor'],\n",
              " 242: ['a man is clapping hands outdoor'],\n",
              " 243: ['a man is clapping hands indoor'],\n",
              " 244: ['a man is clapping hands outdoor'],\n",
              " 245: ['a man is clapping hands outdoor'],\n",
              " 246: ['a man is clapping hands outdoor'],\n",
              " 247: ['a man is clapping hands indoor'],\n",
              " 248: ['a woman is clapping hands outdoor'],\n",
              " 249: ['a woman is clapping hands outdoor'],\n",
              " 250: ['a woman is clapping hands indoor'],\n",
              " 251: ['a man is clapping hands outdoor'],\n",
              " 252: ['a man is clapping hands outdoor'],\n",
              " 253: ['a man is clapping hands outdoor'],\n",
              " 254: ['a man is clapping hands indoor'],\n",
              " 255: ['a woman is clapping hands outdoor'],\n",
              " 256: ['a woman is clapping hands outdoor'],\n",
              " 257: ['a woman is clapping hands outdoor'],\n",
              " 258: ['a woman is clapping hands indoor'],\n",
              " 259: ['a man is clapping hands outdoor'],\n",
              " 260: ['a man is clapping hands outdoor'],\n",
              " 261: ['a man is clapping hands outdoor'],\n",
              " 262: ['a man is clapping hands indoor'],\n",
              " 263: ['a person is clapping hands outdoor'],\n",
              " 264: ['a person is clapping hands outdoor'],\n",
              " 265: ['a person is clapping hands outdoor'],\n",
              " 266: ['a person is clapping hands indoor'],\n",
              " 267: ['a man is clapping hands outdoor'],\n",
              " 268: ['a man is clapping hands outdoor'],\n",
              " 269: ['A man is clapping hands outdoor'],\n",
              " 270: ['a man is clapping hands indoor'],\n",
              " 271: ['a person is clapping hands outdoor'],\n",
              " 272: ['a person is clapping hands outdoor'],\n",
              " 273: ['a person is clapping hands outdoor'],\n",
              " 274: ['a person is clapping hands indoor'],\n",
              " 275: ['a man is clapping hands outdoor'],\n",
              " 276: ['a man is clapping hands outdoor'],\n",
              " 277: ['a man is clapping hands outdoor'],\n",
              " 278: ['a man is clapping hands indoor'],\n",
              " 279: ['A man is clapping hands outdoor'],\n",
              " 280: ['A man is clapping hands outdoor'],\n",
              " 281: ['a man is clapping hands outdoor'],\n",
              " 282: ['a man is clapping hands indoor'],\n",
              " 283: ['a man is clapping hands outdoor'],\n",
              " 284: ['a man is clapping hands outdoor'],\n",
              " 285: ['a man is clapping hands outdoor'],\n",
              " 286: ['a man is clapping hands indoor'],\n",
              " 287: ['a man is clapping hands outdoor'],\n",
              " 288: ['a man is clapping hands outdoor'],\n",
              " 289: ['a man is clapping hands outdoor'],\n",
              " 290: ['a man is clapping hands indoor'],\n",
              " 291: ['a man is clapping hands outdoor'],\n",
              " 292: ['a man is clapping hands outdoor'],\n",
              " 293: ['a man is clapping hands outdoor'],\n",
              " 294: ['a man is clapping hands indoor'],\n",
              " 295: ['a man is clapping hands outdoor'],\n",
              " 296: ['a man is clapping hands outdoor'],\n",
              " 297: ['a man is clapping hands outdoor'],\n",
              " 298: ['a man is clapping hands indoor'],\n",
              " 299: ['a man is jogging outdoor'],\n",
              " 300: ['a man is jogging outdoor'],\n",
              " 301: ['a person is jogging outdoor'],\n",
              " 302: ['a person is jogging indoor'],\n",
              " 303: ['a man is jogging outdoor'],\n",
              " 304: ['a man is jogging outdoor'],\n",
              " 305: ['a man is jogging outdoor'],\n",
              " 306: ['a man is jogging indoor'],\n",
              " 307: ['a man is jogging outdoor'],\n",
              " 308: ['a man is jogging outdoor'],\n",
              " 309: ['a man is jogging outdoor'],\n",
              " 310: ['a man is jogging indoor'],\n",
              " 311: ['a person is jogging outdoor'],\n",
              " 312: ['a person is jogging outdoor'],\n",
              " 313: ['a man is jogging outdoor'],\n",
              " 314: ['a man is jogging indoor'],\n",
              " 315: ['a man is jogging outdoor'],\n",
              " 316: ['a man is jogging outdoor'],\n",
              " 317: ['a man is jogging outdoor'],\n",
              " 318: ['a man is jogging indoor'],\n",
              " 319: ['a man is jogging outdoor'],\n",
              " 320: ['a man is jogging outdoor'],\n",
              " 321: ['a man is jogging outdoor'],\n",
              " 322: ['a man is jogging indoor'],\n",
              " 323: ['a woman is jogging outdoor'],\n",
              " 324: ['a woman is jogging outdoor'],\n",
              " 325: ['a person is jogging outdoor'],\n",
              " 326: ['a person is jogging indoor'],\n",
              " 327: ['a woman is jogging outdoor'],\n",
              " 328: ['a woman is jogging outdoor'],\n",
              " 329: ['a young person is jogging outdoor'],\n",
              " 330: ['a woman is jogging indoor'],\n",
              " 331: ['a woman is jogging outdoor'],\n",
              " 332: ['a woman is jogging outdoor'],\n",
              " 333: ['a woman is jogging outdoor'],\n",
              " 334: ['a woman is jogging indoor'],\n",
              " 335: ['a man is jogging outdoor'],\n",
              " 336: ['a man is jogging outdoor'],\n",
              " 337: ['a man is jogging outdoor'],\n",
              " 338: ['a man is jogging indoor'],\n",
              " 339: ['a man is jogging outdoor'],\n",
              " 340: ['a man is jogging outdoor'],\n",
              " 341: ['a man is jogging outdoor'],\n",
              " 342: ['a man is jogging indoor'],\n",
              " 343: ['a man is jogging outdoor'],\n",
              " 344: ['a man is jogging outdoor'],\n",
              " 345: ['a man is jogging outdoor'],\n",
              " 346: ['a man is jogging indoor'],\n",
              " 347: ['a woman is jogging outdoor'],\n",
              " 348: ['a woman is jogging outdoor'],\n",
              " 349: ['a person is jogging outdoor'],\n",
              " 350: ['a woman is jogging indoor'],\n",
              " 351: ['a man is jogging outdoor'],\n",
              " 352: ['a man is jogging outdoor'],\n",
              " 353: ['a man is jogging outdoor'],\n",
              " 354: ['a man is jogging indoor'],\n",
              " 355: ['a woman is jogging outdoor'],\n",
              " 356: ['a woman is jogging outdoor'],\n",
              " 357: ['a woman is jogging outdoor'],\n",
              " 358: ['a woman is jogging indoor'],\n",
              " 359: ['a man is jogging outdoor'],\n",
              " 360: ['a man is jogging outdoor'],\n",
              " 361: ['a man is jogging outdoor'],\n",
              " 362: ['a man is jogging indoor'],\n",
              " 363: ['a man is jogging outdoor'],\n",
              " 364: ['a man is jogging outdoor'],\n",
              " 365: ['a man is jogging outdoor'],\n",
              " 366: ['a man is jogging indoor'],\n",
              " 367: ['a man is jogging outdoor'],\n",
              " 368: ['a man is jogging outdoor'],\n",
              " 369: ['a man is jogging outdoor'],\n",
              " 370: ['a man is jogging indoor'],\n",
              " 371: ['a woman is jogging outdoor'],\n",
              " 372: ['a woman is jogging outdoor'],\n",
              " 373: ['a woman is jogging outdoor'],\n",
              " 374: ['a woman is jogging indoor'],\n",
              " 375: ['a man is jogging outdoor'],\n",
              " 376: ['a man is jogging outdoor'],\n",
              " 377: ['a man is jogging outdoor'],\n",
              " 378: ['a man is jogging indoor'],\n",
              " 379: ['a man is jogging outdoor'],\n",
              " 380: ['a man is jogging outdoor'],\n",
              " 381: ['a man is jogging outdoor'],\n",
              " 382: ['a man is jogging indoor'],\n",
              " 383: ['a man is jogging outdoor'],\n",
              " 384: ['a man is jogging outdoor'],\n",
              " 385: ['a man is jogging outdoor'],\n",
              " 386: ['a man is jogging indoor'],\n",
              " 387: ['a man is jogging outdoor'],\n",
              " 388: ['a man is jogging outdoor'],\n",
              " 389: ['a man is jogging outdoor'],\n",
              " 390: ['a man is jogging indoor'],\n",
              " 391: ['a man is jogging outdoor'],\n",
              " 392: ['a man is jogging outdoor'],\n",
              " 393: ['a man is jogging outdoor'],\n",
              " 394: ['a man is jogging indoor'],\n",
              " 395: ['a man is jogging outdoor'],\n",
              " 396: ['a man is jogging outdoor'],\n",
              " 397: ['a man is jogging outdoor'],\n",
              " 398: ['a man is jogging indoor'],\n",
              " 399: ['a man is running outdoor'],\n",
              " 400: ['a man is running outdoor'],\n",
              " 401: ['a man is running outdoor'],\n",
              " 402: ['a man is running indoor'],\n",
              " 403: ['a man is running outdoor'],\n",
              " 404: ['a man is running outdoor'],\n",
              " 405: ['a man is running outdoor'],\n",
              " 406: ['a man is running indoor'],\n",
              " 407: ['a man is running outdoor'],\n",
              " 408: ['a man is running outdoor'],\n",
              " 409: ['a man is running outdoor'],\n",
              " 410: ['a man is running indoor'],\n",
              " 411: ['a man is running outdoor'],\n",
              " 412: ['a man is running outdoor'],\n",
              " 413: ['a man is running outdoor'],\n",
              " 414: ['a man is running indoor'],\n",
              " 415: ['a man is running outdoor'],\n",
              " 416: ['a man is running outdoor'],\n",
              " 417: ['a man is running outdoor'],\n",
              " 418: ['a man is running indoor'],\n",
              " 419: ['a man is running outdoor'],\n",
              " 420: ['a man is running outdoor'],\n",
              " 421: ['a man is running outdoor'],\n",
              " 422: ['a man is running indoor'],\n",
              " 423: ['a woman is running outdoor'],\n",
              " 424: ['a woman is running outdoor'],\n",
              " 425: ['a person is running outdoor'],\n",
              " 426: ['a woman is running indoor'],\n",
              " 427: ['a woman is running outdoor'],\n",
              " 428: ['a woman is running outdoor'],\n",
              " 429: ['a person is running outdoor'],\n",
              " 430: ['a woman is running indoor'],\n",
              " 431: ['a woman is running outdoor'],\n",
              " 432: ['a woman is running outdoor'],\n",
              " 433: ['a woman is running outdoor'],\n",
              " 434: ['a woman is running indoor'],\n",
              " 435: ['a man is running outdoor'],\n",
              " 436: ['a man is running outdoor'],\n",
              " 437: ['a man is running outdoor'],\n",
              " 438: ['a man is running indoor'],\n",
              " 439: ['a man is running outdoor'],\n",
              " 440: ['a man is running outdoor'],\n",
              " 441: ['a man is running outdoor'],\n",
              " 442: ['a man is running indoor'],\n",
              " 443: ['a man is running outdoor'],\n",
              " 444: ['a man is running outdoor'],\n",
              " 445: ['a man is running outdoor'],\n",
              " 446: ['a man is running indoor'],\n",
              " 447: ['a woman is running outdoor'],\n",
              " 448: ['a woman is running outdoor'],\n",
              " 449: ['a person is running outdoor'],\n",
              " 450: ['a woman is running indoor'],\n",
              " 451: ['a man is running outdoor'],\n",
              " 452: ['a man is running outdoor'],\n",
              " 453: ['a man is running outdoor'],\n",
              " 454: ['a man is running indoor'],\n",
              " 455: ['a woman is running outdoor'],\n",
              " 456: ['a person is running outdoor'],\n",
              " 457: ['a girl is running outdoor'],\n",
              " 458: ['a woman is running indoor'],\n",
              " 459: ['a man is running outdoor'],\n",
              " 460: ['a man is running outdoor'],\n",
              " 461: ['a man is running outdoor'],\n",
              " 462: ['a man is running indoor'],\n",
              " 463: ['a man is running outdoor'],\n",
              " 464: ['a man is running outdoor'],\n",
              " 465: ['a man is running outdoor'],\n",
              " 466: ['a man is running outdoor'],\n",
              " 467: ['a man is running outdoor'],\n",
              " 468: ['a man is running outdoor'],\n",
              " 469: ['a man is running outdoor'],\n",
              " 470: ['a man is running indoor'],\n",
              " 471: ['a person is running outdoor'],\n",
              " 472: ['a person is running outdoor'],\n",
              " 473: ['a person is running outdoor'],\n",
              " 474: ['a person is running indoor'],\n",
              " 475: ['a man is running outdoor'],\n",
              " 476: ['a man is running outdoor'],\n",
              " 477: ['a man is running outdoor'],\n",
              " 478: ['a man is running indoor'],\n",
              " 479: ['a man is running outdoor'],\n",
              " 480: ['a man is running outdoor'],\n",
              " 481: ['a man is running outdoor'],\n",
              " 482: ['a man is running indoor'],\n",
              " 483: ['a man is running outdoor'],\n",
              " 484: ['a man is running outdoor'],\n",
              " 485: ['a man is running outdoor'],\n",
              " 486: ['a man is running indoor'],\n",
              " 487: ['a man is running outdoor'],\n",
              " 488: ['a man is running outdoor'],\n",
              " 489: ['a man is running outdoor'],\n",
              " 490: ['a man is running indoor'],\n",
              " 491: ['a man is running outdoor'],\n",
              " 492: ['a man is running outdoor'],\n",
              " 493: ['a man is running outdoor'],\n",
              " 494: ['a man is running indoor'],\n",
              " 495: ['a man is running outdoor'],\n",
              " 496: ['a man is running outdoor'],\n",
              " 497: ['a man is running outdoor'],\n",
              " 498: ['a man is running indoor'],\n",
              " 499: ['a man is walking outdoor'],\n",
              " 500: ['a man is walking outdoor'],\n",
              " 501: ['a man is walking outdoor'],\n",
              " 502: ['a man is walking indoor'],\n",
              " 503: ['a man is walking outdoor'],\n",
              " 504: ['a man is walking outdoor'],\n",
              " 505: ['a man is walking outdoor'],\n",
              " 506: ['a man is walking indoor'],\n",
              " 507: ['a man is walking outdoor'],\n",
              " 508: ['a man is walking outdoor'],\n",
              " 509: ['a man is walking outdoor'],\n",
              " 510: ['a man is walking indoor'],\n",
              " 511: ['a man is walking outdoor'],\n",
              " 512: ['a man is walking outdoor'],\n",
              " 513: ['a man is walking outdoor'],\n",
              " 514: ['a man is walking indoor'],\n",
              " 515: ['a man is walking outdoor'],\n",
              " 516: ['a man is walking outdoor'],\n",
              " 517: ['a man is walking outdoor'],\n",
              " 518: ['a man is walking indoor'],\n",
              " 519: ['a man is walking outdoor'],\n",
              " 520: ['a man is walking outdoor'],\n",
              " 521: ['a man is walking outdoor'],\n",
              " 522: ['a man is walking indoor'],\n",
              " 523: ['a woman is walking outdoor'],\n",
              " 524: ['a woman is walking outdoor'],\n",
              " 525: ['a woman is walking outdoor'],\n",
              " 526: ['a woman is walking indoor'],\n",
              " 527: ['a woman is walking outdoor'],\n",
              " 528: ['a woman is walking outdoor'],\n",
              " 529: ['a woman is walking outdoor'],\n",
              " 530: ['a woman is walking indoor'],\n",
              " 531: ['a woman is walking outdoor'],\n",
              " 532: ['a woman is walking outdoor'],\n",
              " 533: ['a woman is walking outdoor'],\n",
              " 534: ['a woman is walking indoor'],\n",
              " 535: ['a man is walking outdoor'],\n",
              " 536: ['a man is walking outdoor'],\n",
              " 537: ['a man is walking outdoor'],\n",
              " 538: ['a man is walking indoor'],\n",
              " 539: ['a man is walking outdoor'],\n",
              " 540: ['a man is walking outdoor'],\n",
              " 541: ['a man is walking outdoor'],\n",
              " 542: ['a man is walking indoor'],\n",
              " 543: ['a man is walking outdoor'],\n",
              " 544: ['a man is walking outdoor'],\n",
              " 545: ['a man is walking outdoor'],\n",
              " 546: ['a man is walking indoor'],\n",
              " 547: ['a woman is walking outdoor'],\n",
              " 548: ['a woman is walking outdoor'],\n",
              " 549: ['a woman is walking outdoor'],\n",
              " 550: ['a woman is walking indoor'],\n",
              " 551: ['a man is walking outdoor'],\n",
              " 552: ['a man is walking outdoor'],\n",
              " 553: ['a man is walking outdoor'],\n",
              " 554: ['a man is walking indoor'],\n",
              " 555: ['a person is walking outdoor'],\n",
              " 556: ['a person is walking outdoor'],\n",
              " 557: ['a person is walking outdoor'],\n",
              " 558: ['a person is walking indoor'],\n",
              " 559: ['a person is walking outdoor'],\n",
              " 560: ['a person is walking outdoor'],\n",
              " 561: ['a person is walking outdoor'],\n",
              " 562: ['a person is walking indoor'],\n",
              " 563: ['a man is walking outdoor'],\n",
              " 564: ['a man is walking outdoor'],\n",
              " 565: ['a person is walking outdoor'],\n",
              " 566: ['a person is walking indoor'],\n",
              " 567: ['a man is walking outdoor'],\n",
              " 568: ['a man is walking outdoor'],\n",
              " 569: ['a man is walking outdoor'],\n",
              " 570: ['a man is walking indoor'],\n",
              " 571: ['a person is walking outdoor'],\n",
              " 572: ['a person is walking outdoor'],\n",
              " 573: ['a person is walking outdoor'],\n",
              " 574: ['a person is walking indoor'],\n",
              " 575: ['a man is walking outdoor'],\n",
              " 576: ['a man is walking outdoor'],\n",
              " 577: ['a man is walking outdoor'],\n",
              " 578: ['a man is walking indoor'],\n",
              " 579: ['a man is walking outdoor'],\n",
              " 580: ['a man is walking outdoor'],\n",
              " 581: ['a man is walking outdoor'],\n",
              " 582: ['a man is walking indoor'],\n",
              " 583: ['a man is walking outdoor'],\n",
              " 584: ['a man is walking outdoor'],\n",
              " 585: ['a man is walking outdoor'],\n",
              " 586: ['a man is walking indoor'],\n",
              " 587: ['a man is walking outdoor'],\n",
              " 588: ['a man is walking outdoor'],\n",
              " 589: ['a man is walking outdoor'],\n",
              " 590: ['a man is walking indoor'],\n",
              " 591: ['a man is walking outdoor'],\n",
              " 592: ['a man is walking outdoor'],\n",
              " 593: ['a person is walking outdoor'],\n",
              " 594: ['a person is walking indoor'],\n",
              " 595: ['a man is walking outdoor'],\n",
              " 596: ['a man is walking outdoor'],\n",
              " 597: ['a man is walking outdoor'],\n",
              " 598: ['a man is walking indoor']}"
            ]
          },
          "metadata": {
            "tags": []
          },
          "execution_count": 22
        }
      ]
    },
    {
      "cell_type": "code",
      "metadata": {
        "id": "cVVz2UthX68X"
      },
      "source": [
        "def clean_descriptions(descriptions):\n",
        "\t# prepare translation table for removing punctuation\n",
        "\ttable = str.maketrans('', '', string.punctuation)\n",
        "\tfor key, desc_list in descriptions.items():\n",
        "\t\tfor i in range(len(desc_list)):\n",
        "\t\t\tdesc = desc_list[i]\n",
        "\t\t\t# tokenize\n",
        "\t\t\tdesc = desc.split()\n",
        "\t\t\t# convert to lower case\n",
        "\t\t\tdesc = [word.lower() for word in desc]\n",
        "\t\t\t# remove punctuation from each token\n",
        "\t\t\tdesc = [w.translate(table) for w in desc]\n",
        "\t\t\t# remove hanging 's' and 'a'\n",
        "\t\t\tdesc = [word for word in desc if len(word)>1]\n",
        "\t\t\t# remove tokens with numbers in them\n",
        "\t\t\tdesc = [word for word in desc if word.isalpha()]\n",
        "\t\t\t# store as string\n",
        "\t\t\tdesc_list[i] =  ' '.join(desc)\n",
        " \n",
        "# clean descriptions\n",
        "clean_descriptions(descriptions)"
      ],
      "execution_count": null,
      "outputs": []
    },
    {
      "cell_type": "code",
      "metadata": {
        "colab": {
          "base_uri": "https://localhost:8080/"
        },
        "id": "dSgMb32IWzr8",
        "outputId": "97ab3999-bf50-4b08-800e-cd1e73edd810"
      },
      "source": [
        "# convert the loaded descriptions into a vocabulary of words\n",
        "def to_vocabulary(descriptions):\n",
        "\tall_desc = set()\n",
        "\tfor key in descriptions.keys():\n",
        "\t\t[all_desc.update(d.split()) for d in descriptions[key]]\n",
        "\treturn all_desc\n",
        " \n",
        "# summarize vocabulary\n",
        "vocabulary = to_vocabulary(descriptions)\n",
        "print('Vocabulary Size: %d' % len(vocabulary))"
      ],
      "execution_count": null,
      "outputs": [
        {
          "output_type": "stream",
          "text": [
            "Vocabulary Size: 22\n"
          ],
          "name": "stdout"
        }
      ]
    },
    {
      "cell_type": "code",
      "metadata": {
        "colab": {
          "base_uri": "https://localhost:8080/"
        },
        "id": "nyK8R403W1_N",
        "outputId": "3339ac68-c3ac-43af-ffdb-720812d4ad9b"
      },
      "source": [
        "vocabulary"
      ],
      "execution_count": null,
      "outputs": [
        {
          "output_type": "execute_result",
          "data": {
            "text/plain": [
              "{'an',\n",
              " 'boxing',\n",
              " 'boy',\n",
              " 'child',\n",
              " 'clapping',\n",
              " 'girl',\n",
              " 'hands',\n",
              " 'in',\n",
              " 'indoor',\n",
              " 'is',\n",
              " 'jogging',\n",
              " 'man',\n",
              " 'old',\n",
              " 'outdoor',\n",
              " 'person',\n",
              " 'practising',\n",
              " 'running',\n",
              " 'the',\n",
              " 'walking',\n",
              " 'waving',\n",
              " 'woman',\n",
              " 'young'}"
            ]
          },
          "metadata": {
            "tags": []
          },
          "execution_count": 25
        }
      ]
    },
    {
      "cell_type": "code",
      "metadata": {
        "id": "5L7lt-MtW4hq"
      },
      "source": [
        "def save_descriptions(descriptions, filename):\n",
        "\tlines = list()\n",
        "\tfor key, desc in descriptions.items():\n",
        "\t\t\tlines.append(str(key) + ' ' + str(desc))\n",
        "\tdata = '\\n'.join(lines)\n",
        "\tfile = open(filename, 'w')\n",
        "\tfile.write(data)\n",
        "\tfile.close()\n",
        " \n",
        "# save descriptions\n",
        "save_descriptions(descriptions, video_path_dir + 'descriptions.txt')"
      ],
      "execution_count": null,
      "outputs": []
    },
    {
      "cell_type": "markdown",
      "metadata": {
        "id": "dKCkdFJwI1dD"
      },
      "source": [
        "# Develop Deep Learning Model"
      ]
    },
    {
      "cell_type": "markdown",
      "metadata": {
        "id": "qrnRUhqOcZv5"
      },
      "source": [
        "### Train Test Split"
      ]
    },
    {
      "cell_type": "code",
      "metadata": {
        "id": "QpoQCyUypo14"
      },
      "source": [
        "from sklearn.model_selection import train_test_split\n",
        "\n",
        "train, test = train_test_split(df, test_size=0.2)"
      ],
      "execution_count": null,
      "outputs": []
    },
    {
      "cell_type": "code",
      "metadata": {
        "id": "8myC_uSS_aGu"
      },
      "source": [
        "train, validate, test = np.split(df.sample(frac=1, random_state=42), \n",
        "                       [int(.7*len(df)), int(.85*len(df))])"
      ],
      "execution_count": null,
      "outputs": []
    },
    {
      "cell_type": "code",
      "metadata": {
        "colab": {
          "base_uri": "https://localhost:8080/",
          "height": 391
        },
        "id": "bOhAJJMop0SD",
        "outputId": "9d4d65d8-4a69-454b-adfb-169e36db9afc"
      },
      "source": [
        "test"
      ],
      "execution_count": null,
      "outputs": [
        {
          "output_type": "execute_result",
          "data": {
            "text/html": [
              "<div>\n",
              "<style scoped>\n",
              "    .dataframe tbody tr th:only-of-type {\n",
              "        vertical-align: middle;\n",
              "    }\n",
              "\n",
              "    .dataframe tbody tr th {\n",
              "        vertical-align: top;\n",
              "    }\n",
              "\n",
              "    .dataframe thead th {\n",
              "        text-align: right;\n",
              "    }\n",
              "</style>\n",
              "<table border=\"1\" class=\"dataframe\">\n",
              "  <thead>\n",
              "    <tr style=\"text-align: right;\">\n",
              "      <th></th>\n",
              "      <th>action</th>\n",
              "      <th>folder_name</th>\n",
              "      <th>caption</th>\n",
              "      <th>total_images</th>\n",
              "      <th>id</th>\n",
              "    </tr>\n",
              "  </thead>\n",
              "  <tbody>\n",
              "    <tr>\n",
              "      <th>378</th>\n",
              "      <td>jogging</td>\n",
              "      <td>/jogging/person21_jogging_d1_uncomp.avi</td>\n",
              "      <td>a man is jogging outdoor</td>\n",
              "      <td>571</td>\n",
              "      <td>379</td>\n",
              "    </tr>\n",
              "    <tr>\n",
              "      <th>288</th>\n",
              "      <td>handclapping</td>\n",
              "      <td>/handclapping/person23_handclapping_d3_uncomp.avi</td>\n",
              "      <td>a man is clapping hands outdoor</td>\n",
              "      <td>481</td>\n",
              "      <td>289</td>\n",
              "    </tr>\n",
              "    <tr>\n",
              "      <th>418</th>\n",
              "      <td>running</td>\n",
              "      <td>/running/person06_running_d1_uncomp.avi</td>\n",
              "      <td>a man is running outdoor</td>\n",
              "      <td>275</td>\n",
              "      <td>419</td>\n",
              "    </tr>\n",
              "    <tr>\n",
              "      <th>162</th>\n",
              "      <td>handwaving</td>\n",
              "      <td>/handwaving/person16_handwaving_d4_uncomp.avi</td>\n",
              "      <td>a man is waving the hands indoor</td>\n",
              "      <td>455</td>\n",
              "      <td>163</td>\n",
              "    </tr>\n",
              "    <tr>\n",
              "      <th>391</th>\n",
              "      <td>jogging</td>\n",
              "      <td>/jogging/person24_jogging_d2_uncomp.avi</td>\n",
              "      <td>a man is jogging outdoor</td>\n",
              "      <td>637</td>\n",
              "      <td>392</td>\n",
              "    </tr>\n",
              "    <tr>\n",
              "      <th>...</th>\n",
              "      <td>...</td>\n",
              "      <td>...</td>\n",
              "      <td>...</td>\n",
              "      <td>...</td>\n",
              "      <td>...</td>\n",
              "    </tr>\n",
              "    <tr>\n",
              "      <th>71</th>\n",
              "      <td>boxing</td>\n",
              "      <td>/boxing/person19_boxing_d1_uncomp.avi</td>\n",
              "      <td>a man is practising boxing outdoor</td>\n",
              "      <td>349</td>\n",
              "      <td>72</td>\n",
              "    </tr>\n",
              "    <tr>\n",
              "      <th>106</th>\n",
              "      <td>handwaving</td>\n",
              "      <td>/handwaving/person02_handwaving_d4_uncomp.avi</td>\n",
              "      <td>a man is waving the hands indoor</td>\n",
              "      <td>389</td>\n",
              "      <td>107</td>\n",
              "    </tr>\n",
              "    <tr>\n",
              "      <th>270</th>\n",
              "      <td>handclapping</td>\n",
              "      <td>/handclapping/person19_handclapping_d1_uncomp.avi</td>\n",
              "      <td>a person is clapping hands outdoor</td>\n",
              "      <td>411</td>\n",
              "      <td>271</td>\n",
              "    </tr>\n",
              "    <tr>\n",
              "      <th>435</th>\n",
              "      <td>running</td>\n",
              "      <td>/running/person10_running_d2_uncomp.avi</td>\n",
              "      <td>a man is running outdoor</td>\n",
              "      <td>465</td>\n",
              "      <td>436</td>\n",
              "    </tr>\n",
              "    <tr>\n",
              "      <th>102</th>\n",
              "      <td>handwaving</td>\n",
              "      <td>/handwaving/person01_handwaving_d4_uncomp.avi</td>\n",
              "      <td>a man is waving the hands indoor</td>\n",
              "      <td>455</td>\n",
              "      <td>103</td>\n",
              "    </tr>\n",
              "  </tbody>\n",
              "</table>\n",
              "<p>90 rows × 5 columns</p>\n",
              "</div>"
            ],
            "text/plain": [
              "           action  ...   id\n",
              "378       jogging  ...  379\n",
              "288  handclapping  ...  289\n",
              "418       running  ...  419\n",
              "162    handwaving  ...  163\n",
              "391       jogging  ...  392\n",
              "..            ...  ...  ...\n",
              "71         boxing  ...   72\n",
              "106    handwaving  ...  107\n",
              "270  handclapping  ...  271\n",
              "435       running  ...  436\n",
              "102    handwaving  ...  103\n",
              "\n",
              "[90 rows x 5 columns]"
            ]
          },
          "metadata": {
            "tags": []
          },
          "execution_count": 30
        }
      ]
    },
    {
      "cell_type": "markdown",
      "metadata": {
        "id": "lLJpfvJ4I66k"
      },
      "source": [
        "## Loading Data"
      ]
    },
    {
      "cell_type": "code",
      "metadata": {
        "id": "d6FSrTbtdK0e"
      },
      "source": [
        "def load_doc(filename):\n",
        "\tfile = open(filename, 'r')\n",
        "\ttext = file.read()\n",
        "\tfile.close()\n",
        "\treturn text"
      ],
      "execution_count": null,
      "outputs": []
    },
    {
      "cell_type": "code",
      "metadata": {
        "id": "Xy2vd4GAwe11"
      },
      "source": [
        "def load_set(df):\n",
        "  dataset = list()\n",
        "  for i in range(df.shape[0]):\n",
        "    identifier = df.iloc[[i]]['id'].values[0]\n",
        "    dataset.append(identifier)\n",
        "  return set(dataset)"
      ],
      "execution_count": null,
      "outputs": []
    },
    {
      "cell_type": "code",
      "metadata": {
        "id": "42ASTgPizzgv"
      },
      "source": [
        "def load_clean_descriptions(filename, dataset):\n",
        "  doc = load_doc(filename)\n",
        "  descriptions = dict()\n",
        "\n",
        "  for line in doc.split('\\n'):\n",
        "    tokens = line.split()\n",
        "    image_id, image_desc = tokens[0], tokens[1:]\n",
        "\n",
        "    image_desc = ' '.join(image_desc)\n",
        "    image_desc = image_desc.replace(\"[\", \"\") \n",
        "    image_desc = image_desc.replace(\"]\", \"\") \n",
        "    image_desc = image_desc.replace(\"'\", \"\") \n",
        "\n",
        "    if int(image_id) in dataset:\n",
        "      if image_id not in descriptions:\n",
        "        descriptions[image_id] = 'startseq ' + (image_desc) + ' endseq'\n",
        "    \n",
        "  return descriptions"
      ],
      "execution_count": null,
      "outputs": []
    },
    {
      "cell_type": "code",
      "metadata": {
        "id": "MYMdiUNmeDtJ"
      },
      "source": [
        "dataset_train = load_set(train)\n",
        "train_descriptions = load_clean_descriptions(video_path_dir + 'descriptions.txt', dataset_train)"
      ],
      "execution_count": null,
      "outputs": []
    },
    {
      "cell_type": "code",
      "metadata": {
        "colab": {
          "base_uri": "https://localhost:8080/"
        },
        "id": "qqdNK0FU4TQa",
        "outputId": "a7a1b2cc-31dc-4931-fafb-9dabcc1f4539"
      },
      "source": [
        "train_descriptions"
      ],
      "execution_count": null,
      "outputs": [
        {
          "output_type": "execute_result",
          "data": {
            "text/plain": [
              "{'1': 'startseq man is practising boxing outdoor endseq',\n",
              " '10': 'startseq man is practising boxing outdoor endseq',\n",
              " '102': 'startseq person is waving the hands outdoor endseq',\n",
              " '104': 'startseq man is waving the hands outdoor endseq',\n",
              " '105': 'startseq man is waving the hands outdoor endseq',\n",
              " '109': 'startseq man is waving the hands outdoor endseq',\n",
              " '11': 'startseq man is boxing in indoor endseq',\n",
              " '110': 'startseq man is waving the hands outdoor endseq',\n",
              " '111': 'startseq man is waving the hands indoor endseq',\n",
              " '112': 'startseq man is waving the hands outdoor endseq',\n",
              " '113': 'startseq man is waving the hands outdoor endseq',\n",
              " '114': 'startseq man is waving the hands outdoor endseq',\n",
              " '115': 'startseq man is waving the hands indoor endseq',\n",
              " '117': 'startseq man is waving the hands outdoor endseq',\n",
              " '118': 'startseq man is waving the hands outdoor endseq',\n",
              " '119': 'startseq man is waving the hands indoor endseq',\n",
              " '12': 'startseq man is practising boxing outdoor endseq',\n",
              " '120': 'startseq man is waving the hands outdoor endseq',\n",
              " '123': 'startseq man is waving the hands indoor endseq',\n",
              " '124': 'startseq man is waving the hands outdoor endseq',\n",
              " '125': 'startseq man is waving the hands outdoor endseq',\n",
              " '126': 'startseq woman is waving the hands outdoor endseq',\n",
              " '127': 'startseq man is waving the hands indoor endseq',\n",
              " '130': 'startseq woman is waving the hands outdoor endseq',\n",
              " '132': 'startseq woman is waving the hands outdoor endseq',\n",
              " '133': 'startseq woman is waving the hands outdoor endseq',\n",
              " '136': 'startseq man is waving the hands outdoor endseq',\n",
              " '137': 'startseq man is waving the hands outdoor endseq',\n",
              " '138': 'startseq man is waving the hands outdoor endseq',\n",
              " '140': 'startseq man is waving the hands outdoor endseq',\n",
              " '141': 'startseq man is waving the hands outdoor endseq',\n",
              " '142': 'startseq man is waving the hands outdoor endseq',\n",
              " '144': 'startseq man is waving the hands outdoor endseq',\n",
              " '145': 'startseq man is waving the hands outdoor endseq',\n",
              " '146': 'startseq man is waving the hands outdoor endseq',\n",
              " '147': 'startseq man is waving the hands indoor endseq',\n",
              " '148': 'startseq woman is waving the hands outdoor endseq',\n",
              " '149': 'startseq woman is waving the hands outdoor endseq',\n",
              " '150': 'startseq woman is waving the hands outdoor endseq',\n",
              " '151': 'startseq woman is waving the hands indoor endseq',\n",
              " '152': 'startseq man is waving the hands outdoor endseq',\n",
              " '153': 'startseq man is waving the hands outdoor endseq',\n",
              " '154': 'startseq man is waving the hands outdoor endseq',\n",
              " '155': 'startseq man is waving the hands indoor endseq',\n",
              " '156': 'startseq woman is waving the hands outdoor endseq',\n",
              " '158': 'startseq woman is waving the hands outdoor endseq',\n",
              " '159': 'startseq woman is waving the hands indoor endseq',\n",
              " '16': 'startseq man is practising boxing outdoor endseq',\n",
              " '164': 'startseq man is waving the hands outdoor endseq',\n",
              " '165': 'startseq man is waving the hands outdoor endseq',\n",
              " '166': 'startseq man is waving the hands outdoor endseq',\n",
              " '168': 'startseq man is waving the hands outdoor endseq',\n",
              " '169': 'startseq man is waving the hands outdoor endseq',\n",
              " '17': 'startseq man is practising boxing outdoor endseq',\n",
              " '173': 'startseq man is waving the hands outdoor endseq',\n",
              " '174': 'startseq person is waving the hands outdoor endseq',\n",
              " '175': 'startseq man is waving the hands indoor endseq',\n",
              " '176': 'startseq man is waving the hands outdoor endseq',\n",
              " '177': 'startseq man is waving the hands outdoor endseq',\n",
              " '178': 'startseq man is waving the hands outdoor endseq',\n",
              " '18': 'startseq man is practising boxing outdoor endseq',\n",
              " '180': 'startseq man is waving the hands outdoor endseq',\n",
              " '181': 'startseq man is waving the hands outdoor endseq',\n",
              " '182': 'startseq person is waving the hands outdoor endseq',\n",
              " '183': 'startseq man is waving the hands indoor endseq',\n",
              " '184': 'startseq man is waving the hands outdoor endseq',\n",
              " '185': 'startseq man is waving the hands outdoor endseq',\n",
              " '186': 'startseq man is waving the hands outdoor endseq',\n",
              " '189': 'startseq man is waving the hands outdoor endseq',\n",
              " '19': 'startseq man is practising boxing indoor endseq',\n",
              " '191': 'startseq man is waving the hands indoor endseq',\n",
              " '193': 'startseq man is waving the hands outdoor endseq',\n",
              " '194': 'startseq man is waving the hands outdoor endseq',\n",
              " '195': 'startseq man is waving the hands indoor endseq',\n",
              " '196': 'startseq man is waving the hands outdoor endseq',\n",
              " '197': 'startseq man is waving the hands outdoor endseq',\n",
              " '198': 'startseq man is waving the hands outdoor endseq',\n",
              " '199': 'startseq man is waving the hands indoor endseq',\n",
              " '20': 'startseq man is practising boxing outdoor endseq',\n",
              " '200': 'startseq man is clapping hands outdoor endseq',\n",
              " '203': 'startseq man is clapping hands indoor endseq',\n",
              " '204': 'startseq man is clapping hands outdoor endseq',\n",
              " '205': 'startseq man is clapping hands outdoor endseq',\n",
              " '208': 'startseq man is clapping hands outdoor endseq',\n",
              " '209': 'startseq man is clapping hands outdoor endseq',\n",
              " '210': 'startseq man is clapping hands outdoor endseq',\n",
              " '211': 'startseq man is clapping hands indoor endseq',\n",
              " '212': 'startseq man is clapping hands outdoor endseq',\n",
              " '213': 'startseq man is clapping hands outdoor endseq',\n",
              " '219': 'startseq man is clapping hands indoor endseq',\n",
              " '220': 'startseq man is clapping hands outdoor endseq',\n",
              " '221': 'startseq man is clapping hands outdoor endseq',\n",
              " '223': 'startseq man is clapping hands indoor endseq',\n",
              " '224': 'startseq person is clapping hands outdoor endseq',\n",
              " '226': 'startseq woman is clapping hands outdoor endseq',\n",
              " '228': 'startseq woman is clapping hands outdoor endseq',\n",
              " '229': 'startseq woman is clapping hands outdoor endseq',\n",
              " '23': 'startseq man is practising boxing indoor endseq',\n",
              " '230': 'startseq woman is clapping hands outdoor endseq',\n",
              " '232': 'startseq woman is clapping hands outdoor endseq',\n",
              " '234': 'startseq woman is clapping hands outdoor endseq',\n",
              " '235': 'startseq woman is clapping hands indoor endseq',\n",
              " '236': 'startseq man is clapping hands outdoor endseq',\n",
              " '238': 'startseq man is clapping hands outdoor endseq',\n",
              " '239': 'startseq man is clapping hands indoor endseq',\n",
              " '24': 'startseq woman is practising boxing outdoor endseq',\n",
              " '240': 'startseq man is clapping hands outdoor endseq',\n",
              " '245': 'startseq man is clapping hands outdoor endseq',\n",
              " '246': 'startseq man is clapping hands outdoor endseq',\n",
              " '247': 'startseq man is clapping hands indoor endseq',\n",
              " '248': 'startseq woman is clapping hands outdoor endseq',\n",
              " '249': 'startseq woman is clapping hands outdoor endseq',\n",
              " '25': 'startseq woman is practising boxing outdoor endseq',\n",
              " '250': 'startseq woman is clapping hands indoor endseq',\n",
              " '251': 'startseq man is clapping hands outdoor endseq',\n",
              " '254': 'startseq man is clapping hands indoor endseq',\n",
              " '256': 'startseq woman is clapping hands outdoor endseq',\n",
              " '258': 'startseq woman is clapping hands indoor endseq',\n",
              " '26': 'startseq woman is practising boxing outdoor endseq',\n",
              " '260': 'startseq man is clapping hands outdoor endseq',\n",
              " '262': 'startseq man is clapping hands indoor endseq',\n",
              " '263': 'startseq person is clapping hands outdoor endseq',\n",
              " '264': 'startseq person is clapping hands outdoor endseq',\n",
              " '265': 'startseq person is clapping hands outdoor endseq',\n",
              " '266': 'startseq person is clapping hands indoor endseq',\n",
              " '267': 'startseq man is clapping hands outdoor endseq',\n",
              " '269': 'startseq man is clapping hands outdoor endseq',\n",
              " '27': 'startseq woman is practising boxing indoor endseq',\n",
              " '272': 'startseq person is clapping hands outdoor endseq',\n",
              " '273': 'startseq person is clapping hands outdoor endseq',\n",
              " '275': 'startseq man is clapping hands outdoor endseq',\n",
              " '276': 'startseq man is clapping hands outdoor endseq',\n",
              " '278': 'startseq man is clapping hands indoor endseq',\n",
              " '279': 'startseq man is clapping hands outdoor endseq',\n",
              " '280': 'startseq man is clapping hands outdoor endseq',\n",
              " '281': 'startseq man is clapping hands outdoor endseq',\n",
              " '282': 'startseq man is clapping hands indoor endseq',\n",
              " '285': 'startseq man is clapping hands outdoor endseq',\n",
              " '287': 'startseq man is clapping hands outdoor endseq',\n",
              " '288': 'startseq man is clapping hands outdoor endseq',\n",
              " '290': 'startseq man is clapping hands indoor endseq',\n",
              " '291': 'startseq man is clapping hands outdoor endseq',\n",
              " '292': 'startseq man is clapping hands outdoor endseq',\n",
              " '294': 'startseq man is clapping hands indoor endseq',\n",
              " '295': 'startseq man is clapping hands outdoor endseq',\n",
              " '297': 'startseq man is clapping hands outdoor endseq',\n",
              " '298': 'startseq man is clapping hands indoor endseq',\n",
              " '299': 'startseq man is jogging outdoor endseq',\n",
              " '3': 'startseq an old man boxing outdoor endseq',\n",
              " '30': 'startseq child is practising boxing outdoor endseq',\n",
              " '300': 'startseq man is jogging outdoor endseq',\n",
              " '301': 'startseq person is jogging outdoor endseq',\n",
              " '302': 'startseq person is jogging indoor endseq',\n",
              " '303': 'startseq man is jogging outdoor endseq',\n",
              " '304': 'startseq man is jogging outdoor endseq',\n",
              " '305': 'startseq man is jogging outdoor endseq',\n",
              " '306': 'startseq man is jogging indoor endseq',\n",
              " '307': 'startseq man is jogging outdoor endseq',\n",
              " '308': 'startseq man is jogging outdoor endseq',\n",
              " '31': 'startseq woman is practising boxing indoor endseq',\n",
              " '310': 'startseq man is jogging indoor endseq',\n",
              " '311': 'startseq person is jogging outdoor endseq',\n",
              " '312': 'startseq person is jogging outdoor endseq',\n",
              " '313': 'startseq man is jogging outdoor endseq',\n",
              " '315': 'startseq man is jogging outdoor endseq',\n",
              " '317': 'startseq man is jogging outdoor endseq',\n",
              " '318': 'startseq man is jogging indoor endseq',\n",
              " '319': 'startseq man is jogging outdoor endseq',\n",
              " '32': 'startseq woman is practising boxing outdoor endseq',\n",
              " '320': 'startseq man is jogging outdoor endseq',\n",
              " '321': 'startseq man is jogging outdoor endseq',\n",
              " '322': 'startseq man is jogging indoor endseq',\n",
              " '323': 'startseq woman is jogging outdoor endseq',\n",
              " '324': 'startseq woman is jogging outdoor endseq',\n",
              " '325': 'startseq person is jogging outdoor endseq',\n",
              " '326': 'startseq person is jogging indoor endseq',\n",
              " '329': 'startseq young person is jogging outdoor endseq',\n",
              " '330': 'startseq woman is jogging indoor endseq',\n",
              " '332': 'startseq woman is jogging outdoor endseq',\n",
              " '333': 'startseq woman is jogging outdoor endseq',\n",
              " '334': 'startseq woman is jogging indoor endseq',\n",
              " '335': 'startseq man is jogging outdoor endseq',\n",
              " '336': 'startseq man is jogging outdoor endseq',\n",
              " '337': 'startseq man is jogging outdoor endseq',\n",
              " '339': 'startseq man is jogging outdoor endseq',\n",
              " '34': 'startseq woman is practising boxing outdoor endseq',\n",
              " '341': 'startseq man is jogging outdoor endseq',\n",
              " '342': 'startseq man is jogging indoor endseq',\n",
              " '343': 'startseq man is jogging outdoor endseq',\n",
              " '345': 'startseq man is jogging outdoor endseq',\n",
              " '347': 'startseq woman is jogging outdoor endseq',\n",
              " '349': 'startseq person is jogging outdoor endseq',\n",
              " '350': 'startseq woman is jogging indoor endseq',\n",
              " '351': 'startseq man is jogging outdoor endseq',\n",
              " '353': 'startseq man is jogging outdoor endseq',\n",
              " '354': 'startseq man is jogging indoor endseq',\n",
              " '355': 'startseq woman is jogging outdoor endseq',\n",
              " '356': 'startseq woman is jogging outdoor endseq',\n",
              " '357': 'startseq woman is jogging outdoor endseq',\n",
              " '358': 'startseq woman is jogging indoor endseq',\n",
              " '361': 'startseq man is jogging outdoor endseq',\n",
              " '362': 'startseq man is jogging indoor endseq',\n",
              " '363': 'startseq man is jogging outdoor endseq',\n",
              " '364': 'startseq man is jogging outdoor endseq',\n",
              " '365': 'startseq man is jogging outdoor endseq',\n",
              " '366': 'startseq man is jogging indoor endseq',\n",
              " '368': 'startseq man is jogging outdoor endseq',\n",
              " '369': 'startseq man is jogging outdoor endseq',\n",
              " '37': 'startseq man is practising boxing outdoor endseq',\n",
              " '370': 'startseq man is jogging indoor endseq',\n",
              " '371': 'startseq woman is jogging outdoor endseq',\n",
              " '372': 'startseq woman is jogging outdoor endseq',\n",
              " '374': 'startseq woman is jogging indoor endseq',\n",
              " '375': 'startseq man is jogging outdoor endseq',\n",
              " '376': 'startseq man is jogging outdoor endseq',\n",
              " '378': 'startseq man is jogging indoor endseq',\n",
              " '38': 'startseq woman is practising boxing indoor endseq',\n",
              " '381': 'startseq man is jogging outdoor endseq',\n",
              " '382': 'startseq man is jogging indoor endseq',\n",
              " '383': 'startseq man is jogging outdoor endseq',\n",
              " '384': 'startseq man is jogging outdoor endseq',\n",
              " '387': 'startseq man is jogging outdoor endseq',\n",
              " '389': 'startseq man is jogging outdoor endseq',\n",
              " '39': 'startseq boy is practising boxing outdoor endseq',\n",
              " '391': 'startseq man is jogging outdoor endseq',\n",
              " '394': 'startseq man is jogging indoor endseq',\n",
              " '395': 'startseq man is jogging outdoor endseq',\n",
              " '396': 'startseq man is jogging outdoor endseq',\n",
              " '397': 'startseq man is jogging outdoor endseq',\n",
              " '399': 'startseq man is running outdoor endseq',\n",
              " '4': 'startseq man is practising boxing outdoor endseq',\n",
              " '40': 'startseq man is practising boxing outdoor endseq',\n",
              " '400': 'startseq man is running outdoor endseq',\n",
              " '401': 'startseq man is running outdoor endseq',\n",
              " '403': 'startseq man is running outdoor endseq',\n",
              " '404': 'startseq man is running outdoor endseq',\n",
              " '405': 'startseq man is running outdoor endseq',\n",
              " '406': 'startseq man is running indoor endseq',\n",
              " '408': 'startseq man is running outdoor endseq',\n",
              " '409': 'startseq man is running outdoor endseq',\n",
              " '410': 'startseq man is running indoor endseq',\n",
              " '411': 'startseq man is running outdoor endseq',\n",
              " '412': 'startseq man is running outdoor endseq',\n",
              " '413': 'startseq man is running outdoor endseq',\n",
              " '415': 'startseq man is running outdoor endseq',\n",
              " '416': 'startseq man is running outdoor endseq',\n",
              " '417': 'startseq man is running outdoor endseq',\n",
              " '420': 'startseq man is running outdoor endseq',\n",
              " '421': 'startseq man is running outdoor endseq',\n",
              " '422': 'startseq man is running indoor endseq',\n",
              " '423': 'startseq woman is running outdoor endseq',\n",
              " '424': 'startseq woman is running outdoor endseq',\n",
              " '425': 'startseq person is running outdoor endseq',\n",
              " '426': 'startseq woman is running indoor endseq',\n",
              " '427': 'startseq woman is running outdoor endseq',\n",
              " '429': 'startseq person is running outdoor endseq',\n",
              " '43': 'startseq man is practising boxing indoor endseq',\n",
              " '430': 'startseq woman is running indoor endseq',\n",
              " '432': 'startseq woman is running outdoor endseq',\n",
              " '433': 'startseq woman is running outdoor endseq',\n",
              " '434': 'startseq woman is running indoor endseq',\n",
              " '435': 'startseq man is running outdoor endseq',\n",
              " '437': 'startseq man is running outdoor endseq',\n",
              " '438': 'startseq man is running indoor endseq',\n",
              " '439': 'startseq man is running outdoor endseq',\n",
              " '440': 'startseq man is running outdoor endseq',\n",
              " '441': 'startseq man is running outdoor endseq',\n",
              " '442': 'startseq man is running indoor endseq',\n",
              " '443': 'startseq man is running outdoor endseq',\n",
              " '445': 'startseq man is running outdoor endseq',\n",
              " '446': 'startseq man is running indoor endseq',\n",
              " '447': 'startseq woman is running outdoor endseq',\n",
              " '448': 'startseq woman is running outdoor endseq',\n",
              " '450': 'startseq woman is running indoor endseq',\n",
              " '451': 'startseq man is running outdoor endseq',\n",
              " '452': 'startseq man is running outdoor endseq',\n",
              " '453': 'startseq man is running outdoor endseq',\n",
              " '454': 'startseq man is running indoor endseq',\n",
              " '457': 'startseq girl is running outdoor endseq',\n",
              " '458': 'startseq woman is running indoor endseq',\n",
              " '46': 'startseq man is practising boxing outdoor endseq',\n",
              " '464': 'startseq man is running outdoor endseq',\n",
              " '465': 'startseq man is running outdoor endseq',\n",
              " '466': 'startseq man is running outdoor endseq',\n",
              " '468': 'startseq man is running outdoor endseq',\n",
              " '469': 'startseq man is running outdoor endseq',\n",
              " '47': 'startseq man is practising boxing indoor endseq',\n",
              " '470': 'startseq man is running indoor endseq',\n",
              " '471': 'startseq person is running outdoor endseq',\n",
              " '473': 'startseq person is running outdoor endseq',\n",
              " '478': 'startseq man is running indoor endseq',\n",
              " '479': 'startseq man is running outdoor endseq',\n",
              " '480': 'startseq man is running outdoor endseq',\n",
              " '481': 'startseq man is running outdoor endseq',\n",
              " '482': 'startseq man is running indoor endseq',\n",
              " '483': 'startseq man is running outdoor endseq',\n",
              " '484': 'startseq man is running outdoor endseq',\n",
              " '486': 'startseq man is running indoor endseq',\n",
              " '487': 'startseq man is running outdoor endseq',\n",
              " '489': 'startseq man is running outdoor endseq',\n",
              " '49': 'startseq an old woman is practising boxing outdoor endseq',\n",
              " '491': 'startseq man is running outdoor endseq',\n",
              " '494': 'startseq man is running indoor endseq',\n",
              " '497': 'startseq man is running outdoor endseq',\n",
              " '498': 'startseq man is running indoor endseq',\n",
              " '50': 'startseq an old woman is practising boxing outdoor endseq',\n",
              " '500': 'startseq man is walking outdoor endseq',\n",
              " '501': 'startseq man is walking outdoor endseq',\n",
              " '502': 'startseq man is walking indoor endseq',\n",
              " '503': 'startseq man is walking outdoor endseq',\n",
              " '507': 'startseq man is walking outdoor endseq',\n",
              " '508': 'startseq man is walking outdoor endseq',\n",
              " '51': 'startseq an old woman is practising boxing indoor endseq',\n",
              " '510': 'startseq man is walking indoor endseq',\n",
              " '512': 'startseq man is walking outdoor endseq',\n",
              " '513': 'startseq man is walking outdoor endseq',\n",
              " '514': 'startseq man is walking indoor endseq',\n",
              " '515': 'startseq man is walking outdoor endseq',\n",
              " '517': 'startseq man is walking outdoor endseq',\n",
              " '518': 'startseq man is walking indoor endseq',\n",
              " '519': 'startseq man is walking outdoor endseq',\n",
              " '520': 'startseq man is walking outdoor endseq',\n",
              " '522': 'startseq man is walking indoor endseq',\n",
              " '524': 'startseq woman is walking outdoor endseq',\n",
              " '526': 'startseq woman is walking indoor endseq',\n",
              " '527': 'startseq woman is walking outdoor endseq',\n",
              " '528': 'startseq woman is walking outdoor endseq',\n",
              " '529': 'startseq woman is walking outdoor endseq',\n",
              " '530': 'startseq woman is walking indoor endseq',\n",
              " '531': 'startseq woman is walking outdoor endseq',\n",
              " '534': 'startseq woman is walking indoor endseq',\n",
              " '535': 'startseq man is walking outdoor endseq',\n",
              " '536': 'startseq man is walking outdoor endseq',\n",
              " '537': 'startseq man is walking outdoor endseq',\n",
              " '538': 'startseq man is walking indoor endseq',\n",
              " '539': 'startseq man is walking outdoor endseq',\n",
              " '54': 'startseq boy is practising boxing outdoor endseq',\n",
              " '540': 'startseq man is walking outdoor endseq',\n",
              " '541': 'startseq man is walking outdoor endseq',\n",
              " '542': 'startseq man is walking indoor endseq',\n",
              " '544': 'startseq man is walking outdoor endseq',\n",
              " '545': 'startseq man is walking outdoor endseq',\n",
              " '547': 'startseq woman is walking outdoor endseq',\n",
              " '548': 'startseq woman is walking outdoor endseq',\n",
              " '549': 'startseq woman is walking outdoor endseq',\n",
              " '55': 'startseq boy is practising boxing outdoor endseq',\n",
              " '550': 'startseq woman is walking indoor endseq',\n",
              " '551': 'startseq man is walking outdoor endseq',\n",
              " '554': 'startseq man is walking indoor endseq',\n",
              " '555': 'startseq person is walking outdoor endseq',\n",
              " '556': 'startseq person is walking outdoor endseq',\n",
              " '558': 'startseq person is walking indoor endseq',\n",
              " '559': 'startseq person is walking outdoor endseq',\n",
              " '56': 'startseq woman is practising boxing outdoor endseq',\n",
              " '560': 'startseq person is walking outdoor endseq',\n",
              " '564': 'startseq man is walking outdoor endseq',\n",
              " '565': 'startseq person is walking outdoor endseq',\n",
              " '567': 'startseq man is walking outdoor endseq',\n",
              " '568': 'startseq man is walking outdoor endseq',\n",
              " '569': 'startseq man is walking outdoor endseq',\n",
              " '57': 'startseq woman is practising boxing outdoor endseq',\n",
              " '571': 'startseq person is walking outdoor endseq',\n",
              " '572': 'startseq person is walking outdoor endseq',\n",
              " '573': 'startseq person is walking outdoor endseq',\n",
              " '574': 'startseq person is walking indoor endseq',\n",
              " '575': 'startseq man is walking outdoor endseq',\n",
              " '576': 'startseq man is walking outdoor endseq',\n",
              " '577': 'startseq man is walking outdoor endseq',\n",
              " '578': 'startseq man is walking indoor endseq',\n",
              " '579': 'startseq man is walking outdoor endseq',\n",
              " '58': 'startseq woman is practising boxing outdoor endseq',\n",
              " '580': 'startseq man is walking outdoor endseq',\n",
              " '581': 'startseq man is walking outdoor endseq',\n",
              " '583': 'startseq man is walking outdoor endseq',\n",
              " '585': 'startseq man is walking outdoor endseq',\n",
              " '586': 'startseq man is walking indoor endseq',\n",
              " '587': 'startseq man is walking outdoor endseq',\n",
              " '588': 'startseq man is walking outdoor endseq',\n",
              " '590': 'startseq man is walking indoor endseq',\n",
              " '591': 'startseq man is walking outdoor endseq',\n",
              " '592': 'startseq man is walking outdoor endseq',\n",
              " '594': 'startseq person is walking indoor endseq',\n",
              " '595': 'startseq man is walking outdoor endseq',\n",
              " '597': 'startseq man is walking outdoor endseq',\n",
              " '598': 'startseq man is walking indoor endseq',\n",
              " '6': 'startseq man is practising boxing outdoor endseq',\n",
              " '60': 'startseq an old man is practising boxing outdoor endseq',\n",
              " '61': 'startseq an old man is practising boxing outdoor endseq',\n",
              " '64': 'startseq man is practising boxing outdoor endseq',\n",
              " '67': 'startseq man is practising boxing indoor endseq',\n",
              " '68': 'startseq man is practising boxing outdoor endseq',\n",
              " '69': 'startseq man is practising boxing outdoor endseq',\n",
              " '7': 'startseq man is boxing indoor endseq',\n",
              " '70': 'startseq man is practising boxing outdoor endseq',\n",
              " '71': 'startseq man is practising boxing indoor endseq',\n",
              " '73': 'startseq man is practising boxing outdoor endseq',\n",
              " '74': 'startseq man is practising boxing outdoor endseq',\n",
              " '75': 'startseq man is practising boxing indoor endseq',\n",
              " '76': 'startseq man is practising boxing outdoor endseq',\n",
              " '77': 'startseq man is practising boxing outdoor endseq',\n",
              " '78': 'startseq man is practising boxing outdoor endseq',\n",
              " '79': 'startseq man is practising boxing indoor endseq',\n",
              " '8': 'startseq man is practising boxing outdoor endseq',\n",
              " '80': 'startseq man is practising boxing outdoor endseq',\n",
              " '82': 'startseq man is practising boxing outdoor endseq',\n",
              " '83': 'startseq man is practising boxing indoor endseq',\n",
              " '84': 'startseq man is practising boxing outdoor endseq',\n",
              " '85': 'startseq man is practising boxing outdoor endseq',\n",
              " '87': 'startseq man is practising boxing indoor endseq',\n",
              " '89': 'startseq man is practising boxing outdoor endseq',\n",
              " '9': 'startseq man is practising boxing outdoor endseq',\n",
              " '90': 'startseq man is practising boxing outdoor endseq',\n",
              " '91': 'startseq man is practising boxing indoor endseq',\n",
              " '93': 'startseq man is practising boxing outdoor endseq',\n",
              " '94': 'startseq man is practising boxing outdoor endseq',\n",
              " '95': 'startseq man is practising boxing indoor endseq',\n",
              " '97': 'startseq man is practising boxing outdoor endseq',\n",
              " '98': 'startseq man is practising boxing outdoor endseq'}"
            ]
          },
          "metadata": {
            "tags": []
          },
          "execution_count": 35
        }
      ]
    },
    {
      "cell_type": "code",
      "metadata": {
        "id": "nFtuQl0GelTT"
      },
      "source": [
        "from pickle import load\n",
        "\n",
        "# load photo features\n",
        "def load_photo_features(filename, dataset):\n",
        "\tall_features = load(open(filename, 'rb'))\n",
        "\tfeatures = {k: all_features[k] for k in dataset}\n",
        "\treturn features"
      ],
      "execution_count": null,
      "outputs": []
    },
    {
      "cell_type": "code",
      "metadata": {
        "id": "-o-LnjcSfoqM"
      },
      "source": [
        "train_features = load_photo_features(video_path_dir + 'features.pkl', dataset_train)"
      ],
      "execution_count": null,
      "outputs": []
    },
    {
      "cell_type": "code",
      "metadata": {
        "colab": {
          "base_uri": "https://localhost:8080/"
        },
        "id": "xeR3gRNc5AfN",
        "outputId": "ad0db62f-4b04-4a71-ba91-073359697e40"
      },
      "source": [
        "print('Photos: train=%d' % len(train_features))"
      ],
      "execution_count": null,
      "outputs": [
        {
          "output_type": "stream",
          "text": [
            "Photos: train=418\n"
          ],
          "name": "stdout"
        }
      ]
    },
    {
      "cell_type": "markdown",
      "metadata": {
        "id": "nDSqmdA7Ema1"
      },
      "source": [
        "## Tokenization"
      ]
    },
    {
      "cell_type": "code",
      "metadata": {
        "id": "7Ih209J6fuHw",
        "colab": {
          "base_uri": "https://localhost:8080/"
        },
        "outputId": "8e04f516-7cd9-4ccb-ea4a-7c830141897e"
      },
      "source": [
        "from keras.preprocessing.text import Tokenizer\n",
        "# convert a dictionary of clean descriptions to a list of descriptions\n",
        "def to_lines(descriptions):\n",
        "\tall_desc = list()\n",
        "\tfor key, value in descriptions.items():\n",
        "\t\tall_desc.append(value)\n",
        "\treturn all_desc\n",
        " \n",
        "# fit a tokenizer given caption descriptions\n",
        "def create_tokenizer(descriptions):\n",
        "\tlines = to_lines(descriptions)\n",
        "\ttokenizer = Tokenizer()\n",
        "\ttokenizer.fit_on_texts(lines)\n",
        "\treturn tokenizer\n",
        "\n",
        "# calculate the length of the description with the most words\n",
        "def max_length(descriptions):\n",
        "\tlines = to_lines(descriptions)\n",
        "\treturn max(len(d.split()) for d in lines)\n",
        "\n",
        "# prepare tokenizer\n",
        "tokenizer = create_tokenizer(train_descriptions)\n",
        "vocab_size = len(tokenizer.word_index) + 1\n",
        "print('Vocabulary Size: %d' % vocab_size)\n",
        "max_length = max_length(train_descriptions)\n",
        "print('Description Length: %d' % max_length)"
      ],
      "execution_count": null,
      "outputs": [
        {
          "output_type": "stream",
          "text": [
            "Vocabulary Size: 25\n",
            "Description Length: 9\n"
          ],
          "name": "stdout"
        }
      ]
    },
    {
      "cell_type": "code",
      "metadata": {
        "colab": {
          "base_uri": "https://localhost:8080/"
        },
        "id": "wnLoFJ08_cGa",
        "outputId": "ef7545b2-af72-4ff9-a143-90cd0993932f"
      },
      "source": [
        "tokenizer.word_index"
      ],
      "execution_count": null,
      "outputs": [
        {
          "output_type": "execute_result",
          "data": {
            "text/plain": [
              "{'an': 18,\n",
              " 'boxing': 14,\n",
              " 'boy': 20,\n",
              " 'child': 22,\n",
              " 'clapping': 16,\n",
              " 'endseq': 2,\n",
              " 'girl': 24,\n",
              " 'hands': 6,\n",
              " 'in': 21,\n",
              " 'indoor': 7,\n",
              " 'is': 3,\n",
              " 'jogging': 9,\n",
              " 'man': 5,\n",
              " 'old': 19,\n",
              " 'outdoor': 4,\n",
              " 'person': 17,\n",
              " 'practising': 15,\n",
              " 'running': 13,\n",
              " 'startseq': 1,\n",
              " 'the': 12,\n",
              " 'walking': 10,\n",
              " 'waving': 11,\n",
              " 'woman': 8,\n",
              " 'young': 23}"
            ]
          },
          "metadata": {
            "tags": []
          },
          "execution_count": 41
        }
      ]
    },
    {
      "cell_type": "markdown",
      "metadata": {
        "id": "2JuLEV0BEpx5"
      },
      "source": [
        "## Create sequences"
      ]
    },
    {
      "cell_type": "code",
      "metadata": {
        "id": "eGvnjA64COy6"
      },
      "source": [
        "from keras.preprocessing.sequence import pad_sequences\n",
        "from keras.utils import to_categorical\n",
        "from numpy import array\n",
        "\n",
        "def create_sequences(tokenizer, max_length, descriptions, photos, vocab_size):\n",
        "  X1 = list()\n",
        "  X2 = list()\n",
        "  y = list()\n",
        "\n",
        "  for key, desc in descriptions.items():\n",
        "    seq = tokenizer.texts_to_sequences([desc])[0]\n",
        "\n",
        "\n",
        "    for i in range(1, len(seq)):\n",
        "      in_seq, out_seq = seq[:i], seq[i]\n",
        "      in_seq = pad_sequences([in_seq], maxlen=max_length)[0]\n",
        "\n",
        "      out_seq = to_categorical([out_seq], num_classes=vocab_size)[0]\n",
        "\n",
        "      X1.append(photos[int(key)][0])\n",
        "      X2.append(in_seq)\n",
        "      y.append(out_seq)\n",
        "  return array(X1), array(X2), array(y)"
      ],
      "execution_count": null,
      "outputs": []
    },
    {
      "cell_type": "code",
      "metadata": {
        "id": "ml4WY7TxABww"
      },
      "source": [
        "X1train, X2train, ytrain = create_sequences(tokenizer, max_length, train_descriptions, train_features, vocab_size)"
      ],
      "execution_count": null,
      "outputs": []
    },
    {
      "cell_type": "markdown",
      "metadata": {
        "id": "dqY4sQ3pEtz5"
      },
      "source": [
        "Validate Sequences"
      ]
    },
    {
      "cell_type": "code",
      "metadata": {
        "colab": {
          "base_uri": "https://localhost:8080/"
        },
        "id": "h9mSPOw3APOO",
        "outputId": "bf125d4a-4342-43ab-b930-3e34036ede1c"
      },
      "source": [
        "dataset_val = load_set(validate)\n",
        "print('Dataset: %d' % len(dataset_val))\n",
        "# descriptions\n",
        "val_descriptions = load_clean_descriptions(video_path_dir + 'descriptions.txt', dataset_val)\n",
        "print('Descriptions: test=%d' % len(val_descriptions))\n",
        "# photo features\n",
        "val_features = load_photo_features(video_path_dir + 'features.pkl', dataset_val)\n",
        "print('Photos: test=%d' % len(val_features))\n",
        "# prepare sequences\n",
        "X1val, X2val, yval = create_sequences(tokenizer, max_length, val_descriptions, val_features, vocab_size)"
      ],
      "execution_count": null,
      "outputs": [
        {
          "output_type": "stream",
          "text": [
            "Dataset: 90\n",
            "Descriptions: test=90\n",
            "Photos: test=90\n"
          ],
          "name": "stdout"
        }
      ]
    },
    {
      "cell_type": "markdown",
      "metadata": {
        "id": "9AKfGGUkEwT8"
      },
      "source": [
        "Test Sequences"
      ]
    },
    {
      "cell_type": "code",
      "metadata": {
        "id": "uBZSwfvFgImo",
        "colab": {
          "base_uri": "https://localhost:8080/"
        },
        "outputId": "f49dabe5-a2c5-4d86-bc1b-614239228084"
      },
      "source": [
        "dataset_test = load_set(test)\n",
        "print('Dataset: %d' % len(dataset_test))\n",
        "# descriptions\n",
        "test_descriptions = load_clean_descriptions(video_path_dir + 'descriptions.txt', dataset_test)\n",
        "print('Descriptions: test=%d' % len(test_descriptions))\n",
        "# photo features\n",
        "test_features = load_photo_features(video_path_dir + 'features.pkl', dataset_test)\n",
        "print('Photos: test=%d' % len(test_features))\n",
        "# prepare sequences\n",
        "X1test, X2test, ytest = create_sequences(tokenizer, max_length, test_descriptions, test_features, vocab_size)"
      ],
      "execution_count": null,
      "outputs": [
        {
          "output_type": "stream",
          "text": [
            "Dataset: 90\n",
            "Descriptions: test=90\n",
            "Photos: test=90\n"
          ],
          "name": "stdout"
        }
      ]
    },
    {
      "cell_type": "markdown",
      "metadata": {
        "id": "MYSanSRxf2PQ"
      },
      "source": [
        "## Model Summary"
      ]
    },
    {
      "cell_type": "code",
      "metadata": {
        "id": "9RgZpOUTgAIy"
      },
      "source": [
        "from numpy import array\n",
        "from pickle import load\n",
        "from keras.preprocessing.text import Tokenizer\n",
        "from keras.preprocessing.sequence import pad_sequences\n",
        "from keras.utils import to_categorical\n",
        "from keras.utils import plot_model\n",
        "from keras.models import Model\n",
        "from keras.layers import Input\n",
        "from keras.layers import Dense\n",
        "from keras.layers import LSTM\n",
        "from keras.layers import Embedding\n",
        "from keras.layers import Dropout\n",
        "from keras.layers.merge import add\n",
        "from keras.callbacks import ModelCheckpoint"
      ],
      "execution_count": null,
      "outputs": []
    },
    {
      "cell_type": "code",
      "metadata": {
        "id": "7BVMlBoof1li"
      },
      "source": [
        "def define_model(vocab_size, max_length):\n",
        "\t# feature extractor model\n",
        "\tinputs1 = Input(shape=(1000,))\n",
        "\tfe1 = Dropout(0.5)(inputs1)\n",
        "\tfe2 = Dense(256, activation='relu')(fe1)\n",
        "\t# sequence model\n",
        "\tinputs2 = Input(shape=(max_length,))\n",
        "\tse1 = Embedding(vocab_size, 256, mask_zero=True)(inputs2)\n",
        "\tse2 = Dropout(0.5)(se1)\n",
        "\tse3 = LSTM(256)(se2)\n",
        "\t# decoder model\n",
        "\tdecoder1 = add([fe2, se3])\n",
        "\tdecoder2 = Dense(256, activation='relu')(decoder1)\n",
        "\toutputs = Dense(vocab_size, activation='softmax')(decoder2)\n",
        "\t# tie it together [image, seq] [word]\n",
        "\tmodel = Model(inputs=[inputs1, inputs2], outputs=outputs)\n",
        "\tmodel.compile(loss='categorical_crossentropy', optimizer='adam')\n",
        "\t# summarize model\n",
        "\tprint(model.summary())\n",
        "\tplot_model(model, to_file='model.png', show_shapes=True)\n",
        "\treturn model"
      ],
      "execution_count": null,
      "outputs": []
    },
    {
      "cell_type": "code",
      "metadata": {
        "colab": {
          "base_uri": "https://localhost:8080/"
        },
        "id": "b_C7AzT2f6MU",
        "outputId": "49decdd0-d6aa-4a7b-9ec7-70bcb9a2c82a"
      },
      "source": [
        "model = define_model(vocab_size, max_length)"
      ],
      "execution_count": null,
      "outputs": [
        {
          "output_type": "stream",
          "text": [
            "Model: \"model_1\"\n",
            "__________________________________________________________________________________________________\n",
            "Layer (type)                    Output Shape         Param #     Connected to                     \n",
            "==================================================================================================\n",
            "input_4 (InputLayer)            [(None, 9)]          0                                            \n",
            "__________________________________________________________________________________________________\n",
            "input_3 (InputLayer)            [(None, 1000)]       0                                            \n",
            "__________________________________________________________________________________________________\n",
            "embedding (Embedding)           (None, 9, 256)       6400        input_4[0][0]                    \n",
            "__________________________________________________________________________________________________\n",
            "dropout (Dropout)               (None, 1000)         0           input_3[0][0]                    \n",
            "__________________________________________________________________________________________________\n",
            "dropout_1 (Dropout)             (None, 9, 256)       0           embedding[0][0]                  \n",
            "__________________________________________________________________________________________________\n",
            "dense (Dense)                   (None, 256)          256256      dropout[0][0]                    \n",
            "__________________________________________________________________________________________________\n",
            "lstm (LSTM)                     (None, 256)          525312      dropout_1[0][0]                  \n",
            "__________________________________________________________________________________________________\n",
            "add (Add)                       (None, 256)          0           dense[0][0]                      \n",
            "                                                                 lstm[0][0]                       \n",
            "__________________________________________________________________________________________________\n",
            "dense_1 (Dense)                 (None, 256)          65792       add[0][0]                        \n",
            "__________________________________________________________________________________________________\n",
            "dense_2 (Dense)                 (None, 25)           6425        dense_1[0][0]                    \n",
            "==================================================================================================\n",
            "Total params: 860,185\n",
            "Trainable params: 860,185\n",
            "Non-trainable params: 0\n",
            "__________________________________________________________________________________________________\n",
            "None\n"
          ],
          "name": "stdout"
        }
      ]
    },
    {
      "cell_type": "markdown",
      "metadata": {
        "id": "Telpv2-sEzfB"
      },
      "source": [
        "## Training the model"
      ]
    },
    {
      "cell_type": "code",
      "metadata": {
        "id": "qE79Nf5sf8vR",
        "colab": {
          "base_uri": "https://localhost:8080/"
        },
        "outputId": "28c0bde7-7e72-4e6e-8850-c67828cf6051"
      },
      "source": [
        "filepath = 'model-ep{epoch:03d}-loss{loss:.3f}-val_loss{val_loss:.3f}.h5'\n",
        "checkpoint = ModelCheckpoint(filepath, monitor='val_loss', verbose=1, save_best_only=True, mode='min')\n",
        "\n",
        "model.fit([X1train, X2train], ytrain, epochs=20, verbose=2, callbacks=[checkpoint], validation_data=([X1val, X2val], yval))"
      ],
      "execution_count": null,
      "outputs": [
        {
          "output_type": "stream",
          "text": [
            "Epoch 1/20\n",
            "75/75 - 6s - loss: 1.8312 - val_loss: 0.9656\n",
            "\n",
            "Epoch 00001: val_loss improved from inf to 0.96561, saving model to model-ep001-loss1.831-val_loss0.966.h5\n",
            "Epoch 2/20\n",
            "75/75 - 2s - loss: 0.7470 - val_loss: 0.6143\n",
            "\n",
            "Epoch 00002: val_loss improved from 0.96561 to 0.61430, saving model to model-ep002-loss0.747-val_loss0.614.h5\n",
            "Epoch 3/20\n",
            "75/75 - 2s - loss: 0.6199 - val_loss: 0.5701\n",
            "\n",
            "Epoch 00003: val_loss improved from 0.61430 to 0.57007, saving model to model-ep003-loss0.620-val_loss0.570.h5\n",
            "Epoch 4/20\n",
            "75/75 - 2s - loss: 0.5842 - val_loss: 0.5445\n",
            "\n",
            "Epoch 00004: val_loss improved from 0.57007 to 0.54455, saving model to model-ep004-loss0.584-val_loss0.545.h5\n",
            "Epoch 5/20\n",
            "75/75 - 2s - loss: 0.5441 - val_loss: 0.5197\n",
            "\n",
            "Epoch 00005: val_loss improved from 0.54455 to 0.51968, saving model to model-ep005-loss0.544-val_loss0.520.h5\n",
            "Epoch 6/20\n",
            "75/75 - 2s - loss: 0.5102 - val_loss: 0.5000\n",
            "\n",
            "Epoch 00006: val_loss improved from 0.51968 to 0.50001, saving model to model-ep006-loss0.510-val_loss0.500.h5\n",
            "Epoch 7/20\n",
            "75/75 - 2s - loss: 0.5007 - val_loss: 0.4720\n",
            "\n",
            "Epoch 00007: val_loss improved from 0.50001 to 0.47205, saving model to model-ep007-loss0.501-val_loss0.472.h5\n",
            "Epoch 8/20\n",
            "75/75 - 2s - loss: 0.4795 - val_loss: 0.4630\n",
            "\n",
            "Epoch 00008: val_loss improved from 0.47205 to 0.46305, saving model to model-ep008-loss0.479-val_loss0.463.h5\n",
            "Epoch 9/20\n",
            "75/75 - 2s - loss: 0.4656 - val_loss: 0.4353\n",
            "\n",
            "Epoch 00009: val_loss improved from 0.46305 to 0.43533, saving model to model-ep009-loss0.466-val_loss0.435.h5\n",
            "Epoch 10/20\n",
            "75/75 - 2s - loss: 0.4398 - val_loss: 0.4302\n",
            "\n",
            "Epoch 00010: val_loss improved from 0.43533 to 0.43025, saving model to model-ep010-loss0.440-val_loss0.430.h5\n",
            "Epoch 11/20\n",
            "75/75 - 2s - loss: 0.4334 - val_loss: 0.4047\n",
            "\n",
            "Epoch 00011: val_loss improved from 0.43025 to 0.40469, saving model to model-ep011-loss0.433-val_loss0.405.h5\n",
            "Epoch 12/20\n",
            "75/75 - 2s - loss: 0.4270 - val_loss: 0.4002\n",
            "\n",
            "Epoch 00012: val_loss improved from 0.40469 to 0.40022, saving model to model-ep012-loss0.427-val_loss0.400.h5\n",
            "Epoch 13/20\n",
            "75/75 - 2s - loss: 0.4092 - val_loss: 0.3826\n",
            "\n",
            "Epoch 00013: val_loss improved from 0.40022 to 0.38256, saving model to model-ep013-loss0.409-val_loss0.383.h5\n",
            "Epoch 14/20\n",
            "75/75 - 2s - loss: 0.3913 - val_loss: 0.3837\n",
            "\n",
            "Epoch 00014: val_loss did not improve from 0.38256\n",
            "Epoch 15/20\n",
            "75/75 - 2s - loss: 0.3912 - val_loss: 0.3899\n",
            "\n",
            "Epoch 00015: val_loss did not improve from 0.38256\n",
            "Epoch 16/20\n",
            "75/75 - 2s - loss: 0.3786 - val_loss: 0.3790\n",
            "\n",
            "Epoch 00016: val_loss improved from 0.38256 to 0.37898, saving model to model-ep016-loss0.379-val_loss0.379.h5\n",
            "Epoch 17/20\n",
            "75/75 - 2s - loss: 0.3700 - val_loss: 0.3758\n",
            "\n",
            "Epoch 00017: val_loss improved from 0.37898 to 0.37575, saving model to model-ep017-loss0.370-val_loss0.376.h5\n",
            "Epoch 18/20\n",
            "75/75 - 2s - loss: 0.3576 - val_loss: 0.3686\n",
            "\n",
            "Epoch 00018: val_loss improved from 0.37575 to 0.36856, saving model to model-ep018-loss0.358-val_loss0.369.h5\n",
            "Epoch 19/20\n",
            "75/75 - 2s - loss: 0.3569 - val_loss: 0.3732\n",
            "\n",
            "Epoch 00019: val_loss did not improve from 0.36856\n",
            "Epoch 20/20\n",
            "75/75 - 2s - loss: 0.3464 - val_loss: 0.3673\n",
            "\n",
            "Epoch 00020: val_loss improved from 0.36856 to 0.36728, saving model to model-ep020-loss0.346-val_loss0.367.h5\n"
          ],
          "name": "stdout"
        },
        {
          "output_type": "execute_result",
          "data": {
            "text/plain": [
              "<tensorflow.python.keras.callbacks.History at 0x7f74a1da6190>"
            ]
          },
          "metadata": {
            "tags": []
          },
          "execution_count": 58
        }
      ]
    },
    {
      "cell_type": "markdown",
      "metadata": {
        "id": "ifTzBGgwK8se"
      },
      "source": [
        "# Evaluation of Model"
      ]
    },
    {
      "cell_type": "markdown",
      "metadata": {
        "id": "KWwwNTIHFDkA"
      },
      "source": [
        "## Generate Caption from an Image"
      ]
    },
    {
      "cell_type": "code",
      "metadata": {
        "id": "LBkAZ-YLK6MN"
      },
      "source": [
        "from numpy import argmax\n",
        "from pickle import load\n",
        "from keras.preprocessing.text import Tokenizer\n",
        "from keras.preprocessing.sequence import pad_sequences\n",
        "from keras.models import load_model\n",
        "from nltk.translate.bleu_score import corpus_bleu\n",
        "\n",
        "# map an integer to a word\n",
        "def word_for_id(integer, tokenizer):\n",
        "\tfor word, index in tokenizer.word_index.items():\n",
        "\t\tif index == integer:\n",
        "\t\t\treturn word\n",
        "\treturn None\n",
        "\n",
        "def generate_desc(model, tokenizer, photo, max_length):\n",
        "\t# seed the generation process\n",
        "\tin_text = 'startseq'\n",
        "\t# iterate over the whole length of the sequence\n",
        "\tfor i in range(max_length):\n",
        "\t\t# integer encode input sequence\n",
        "\t\tsequence = tokenizer.texts_to_sequences([in_text])[0]\n",
        "\t\t# pad input\n",
        "\t\tsequence = pad_sequences([sequence], maxlen=max_length)\n",
        "\t\t# predict next word\n",
        "\t\tyhat = model.predict([photo,sequence], verbose=0)\n",
        "\t\t# convert probability to integer\n",
        "\t\tyhat = argmax(yhat)\n",
        "\t\t# map integer to word\n",
        "\t\tword = word_for_id(yhat, tokenizer)\n",
        "\t\t# stop if we cannot map the word\n",
        "\t\tif word is None:\n",
        "\t\t\tbreak\n",
        "\t\t# append as input for generating the next word\n",
        "\t\tin_text += ' ' + word\n",
        "\t\t# stop if we predict the end of the sequence\n",
        "\t\tif word == 'endseq':\n",
        "\t\t\tbreak\n",
        "\treturn in_text"
      ],
      "execution_count": null,
      "outputs": []
    },
    {
      "cell_type": "code",
      "metadata": {
        "colab": {
          "base_uri": "https://localhost:8080/"
        },
        "id": "P2JJ7N0VLP4X",
        "outputId": "bb915c29-2def-490f-8174-6b974fac3a04"
      },
      "source": [
        "#Generate Captions for a Fresh Image\n",
        "\n",
        "from pickle import load\n",
        "from numpy import argmax\n",
        "from keras.preprocessing.sequence import pad_sequences\n",
        "from keras.applications.vgg16 import VGG16\n",
        "from keras.preprocessing.image import load_img\n",
        "from keras.preprocessing.image import img_to_array\n",
        "from keras.applications.vgg16 import preprocess_input\n",
        "from keras.models import Model\n",
        "from keras.models import load_model\n",
        "from keras.preprocessing.text import Tokenizer\n",
        "\n",
        "# extract features from each photo in the directory\n",
        "def extract_features(filename):\n",
        "\t# load the model\n",
        "\tmodel = VGG16()\n",
        "\t# re-structure the model\n",
        "\tmodel.layers.pop()\n",
        "\tmodel = Model(inputs=model.inputs, outputs=model.layers[-1].output)\n",
        "\t# load the photo\n",
        "\timage = load_img(filename, target_size=(224, 224))\n",
        "\t# convert the image pixels to a numpy array\n",
        "\timage = img_to_array(image)\n",
        "\t# reshape data for the model\n",
        "\timage = image.reshape((1, image.shape[0], image.shape[1], image.shape[2]))\n",
        "\t# prepare the image for the VGG model\n",
        "\timage = preprocess_input(image)\n",
        "\t# get features\n",
        "\tfeature = model.predict(image, verbose=0)\n",
        "\treturn feature\n",
        "\n",
        "# load the tokenizer\n",
        "# tokenizer = load(open('tokenizer.pkl', 'rb'))\n",
        "# load the model\n",
        "model = load_model('/content/drive/MyDrive/Semester 4/32933 - Research Project/KTH Dataset and Code/model-ep020-loss0.346-val_loss0.367.h5')\n",
        "# load and prepare the photograph\n",
        "photo = extract_features('/content/drive/MyDrive/Semester 4/32933 - Research Project/KTH Dataset and Code/KTH Images/handclapping/person02_handclapping_d3_uncomp.avi/image_0026.jpg')\n",
        "# generate description\n",
        "description = generate_desc(model, tokenizer, photo, max_length)\n",
        "print(description)"
      ],
      "execution_count": null,
      "outputs": [
        {
          "output_type": "stream",
          "text": [
            "WARNING:tensorflow:5 out of the last 11 calls to <function Model.make_predict_function.<locals>.predict_function at 0x7f72727e3950> triggered tf.function retracing. Tracing is expensive and the excessive number of tracings could be due to (1) creating @tf.function repeatedly in a loop, (2) passing tensors with different shapes, (3) passing Python objects instead of tensors. For (1), please define your @tf.function outside of the loop. For (2), @tf.function has experimental_relax_shapes=True option that relaxes argument shapes that can avoid unnecessary retracing. For (3), please refer to https://www.tensorflow.org/guide/function#controlling_retracing and https://www.tensorflow.org/api_docs/python/tf/function for  more details.\n",
            "startseq man is waving the hands outdoor endseq\n"
          ],
          "name": "stdout"
        }
      ]
    },
    {
      "cell_type": "code",
      "metadata": {
        "colab": {
          "base_uri": "https://localhost:8080/"
        },
        "id": "owq8r8GpBscj",
        "outputId": "9406a2a1-0e39-475e-c051-ccf5c0fc99ad"
      },
      "source": [
        "#Remove startseq and endseq\n",
        "query = description\n",
        "stopwords = ['startseq','endseq']\n",
        "querywords = query.split()\n",
        "\n",
        "resultwords  = [word for word in querywords if word.lower() not in stopwords]\n",
        "result = ' '.join(resultwords)\n",
        "\n",
        "print(result)"
      ],
      "execution_count": null,
      "outputs": [
        {
          "output_type": "stream",
          "text": [
            "man is waving the hands outdoor\n"
          ],
          "name": "stdout"
        }
      ]
    },
    {
      "cell_type": "markdown",
      "metadata": {
        "id": "ivHirDkUE9Nc"
      },
      "source": [
        "## Calculate BLEU score"
      ]
    },
    {
      "cell_type": "code",
      "metadata": {
        "id": "G6kaPKIfMyRV"
      },
      "source": [
        "# evaluate the skill of the model\n",
        "def evaluate_model(model, descriptions, photos, tokenizer, max_length):\n",
        "\tactual, predicted = list(), list()\n",
        "\t# step over the whole set\n",
        "\tfor key, desc in descriptions.items():\n",
        "\t\t# generate description\n",
        "\t\tyhat = generate_desc(model, tokenizer, photos[int(key)], max_length)\n",
        "\t\t# store actual and predicted\n",
        "\t\treferences = desc\n",
        "\t\tactual.append(references)\n",
        "\t\tpredicted.append(yhat)\n",
        "\t# calculate BLEU score\n",
        "\tprint('BLEU-1: %f' % corpus_bleu(actual, predicted, weights=(1.0, 0, 0, 0)))\n",
        "\tprint('BLEU-2: %f' % corpus_bleu(actual, predicted, weights=(0.5, 0.5, 0, 0)))\n",
        "\tprint('BLEU-3: %f' % corpus_bleu(actual, predicted, weights=(0.3, 0.3, 0.3, 0)))\n",
        "\tprint('BLEU-4: %f' % corpus_bleu(actual, predicted, weights=(0.25, 0.25, 0.25, 0.25)))"
      ],
      "execution_count": null,
      "outputs": []
    },
    {
      "cell_type": "code",
      "metadata": {
        "colab": {
          "base_uri": "https://localhost:8080/"
        },
        "id": "k654R-9f9ZZ9",
        "outputId": "b2561d8f-e197-4625-f0fe-32ecad346eb4"
      },
      "source": [
        "evaluate_model(model, test_descriptions, test_features, tokenizer, max_length)"
      ],
      "execution_count": null,
      "outputs": [
        {
          "output_type": "stream",
          "text": [
            "/usr/local/lib/python3.7/dist-packages/nltk/translate/bleu_score.py:490: UserWarning: \n",
            "Corpus/Sentence contains 0 counts of 2-gram overlaps.\n",
            "BLEU scores might be undesirable; use SmoothingFunction().\n",
            "  warnings.warn(_msg)\n"
          ],
          "name": "stderr"
        },
        {
          "output_type": "stream",
          "text": [
            "BLEU-1: 0.357752\n",
            "BLEU-2: 0.598124\n",
            "BLEU-3: 0.734640\n",
            "BLEU-4: 0.773384\n"
          ],
          "name": "stdout"
        }
      ]
    }
  ]
}